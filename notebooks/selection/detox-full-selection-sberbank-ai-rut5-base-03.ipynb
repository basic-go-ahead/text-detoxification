{
 "cells": [
  {
   "cell_type": "code",
   "execution_count": 1,
   "id": "f7e98263",
   "metadata": {
    "_cell_guid": "b1076dfc-b9ad-4769-8c92-a6c4dae69d19",
    "_uuid": "8f2839f25d086af736a60e9eeb907d3b93b6e0e5",
    "execution": {
     "iopub.execute_input": "2022-05-13T17:25:17.005208Z",
     "iopub.status.busy": "2022-05-13T17:25:17.004565Z",
     "iopub.status.idle": "2022-05-13T17:25:17.027127Z",
     "shell.execute_reply": "2022-05-13T17:25:17.026041Z"
    },
    "papermill": {
     "duration": 0.037672,
     "end_time": "2022-05-13T17:25:17.029998",
     "exception": false,
     "start_time": "2022-05-13T17:25:16.992326",
     "status": "completed"
    },
    "tags": []
   },
   "outputs": [],
   "source": [
    "import os, sys\n",
    "from dotenv import load_dotenv"
   ]
  },
  {
   "cell_type": "code",
   "execution_count": 2,
   "id": "7670c47b",
   "metadata": {
    "execution": {
     "iopub.execute_input": "2022-05-13T17:25:17.050379Z",
     "iopub.status.busy": "2022-05-13T17:25:17.049782Z",
     "iopub.status.idle": "2022-05-13T17:25:18.699076Z",
     "shell.execute_reply": "2022-05-13T17:25:18.698192Z"
    },
    "papermill": {
     "duration": 1.66196,
     "end_time": "2022-05-13T17:25:18.701442",
     "exception": false,
     "start_time": "2022-05-13T17:25:17.039482",
     "status": "completed"
    },
    "tags": []
   },
   "outputs": [
    {
     "name": "stdout",
     "output_type": "stream",
     "text": [
      "Cloning into 'text-detoxification'...\r\n",
      "remote: Enumerating objects: 56, done.\u001b[K\r\n",
      "remote: Counting objects: 100% (56/56), done.\u001b[K\r\n",
      "remote: Compressing objects: 100% (43/43), done.\u001b[K\r\n",
      "remote: Total 56 (delta 28), reused 36 (delta 11), pack-reused 0\u001b[K\r\n",
      "Unpacking objects: 100% (56/56), 9.32 KiB | 203.00 KiB/s, done.\r\n"
     ]
    }
   ],
   "source": [
    "!git clone https://github.com/basic-go-ahead/text-detoxification.git"
   ]
  },
  {
   "cell_type": "code",
   "execution_count": 3,
   "id": "d15840aa",
   "metadata": {
    "execution": {
     "iopub.execute_input": "2022-05-13T17:25:18.725141Z",
     "iopub.status.busy": "2022-05-13T17:25:18.724787Z",
     "iopub.status.idle": "2022-05-13T17:25:18.735828Z",
     "shell.execute_reply": "2022-05-13T17:25:18.735090Z"
    },
    "papermill": {
     "duration": 0.025273,
     "end_time": "2022-05-13T17:25:18.737870",
     "exception": false,
     "start_time": "2022-05-13T17:25:18.712597",
     "status": "completed"
    },
    "tags": []
   },
   "outputs": [
    {
     "data": {
      "text/plain": [
       "True"
      ]
     },
     "execution_count": 3,
     "metadata": {},
     "output_type": "execute_result"
    }
   ],
   "source": [
    "load_dotenv('./text-detoxification/pipeline.env')"
   ]
  },
  {
   "cell_type": "code",
   "execution_count": 4,
   "id": "bd251bde",
   "metadata": {
    "execution": {
     "iopub.execute_input": "2022-05-13T17:25:18.762177Z",
     "iopub.status.busy": "2022-05-13T17:25:18.761134Z",
     "iopub.status.idle": "2022-05-13T18:39:38.346596Z",
     "shell.execute_reply": "2022-05-13T18:39:38.345297Z"
    },
    "papermill": {
     "duration": 4459.600957,
     "end_time": "2022-05-13T18:39:38.349846",
     "exception": false,
     "start_time": "2022-05-13T17:25:18.748889",
     "status": "completed"
    },
    "tags": []
   },
   "outputs": [
    {
     "name": "stdout",
     "output_type": "stream",
     "text": [
      "Downloading: 100%|███████████████████████████| 980k/980k [00:00<00:00, 1.49MB/s]\r\n",
      "Downloading: 100%|██████████████████████████| 1.37k/1.37k [00:00<00:00, 741kB/s]\r\n",
      "100%|█████████████████████████████████████| 6948/6948 [00:04<00:00, 1426.16it/s]\r\n",
      "100%|███████████████████████████████████████| 348/348 [1:13:49<00:00, 12.73s/it]\r\n"
     ]
    }
   ],
   "source": [
    "!python ./text-detoxification/t5-inference.py \\\n",
    "    --model-name sberbank-ai/ruT5-base \\\n",
    "    --model-path ../input/detox-full-train-sberbank-ai-rut5-base-03/model-05.dump \\\n",
    "    --max-length 110 \\\n",
    "    --toxic-path {os.environ.get('TRAIN_PATH')} \\\n",
    "    --detoxic-path ./answer-full-train-45.txt"
   ]
  },
  {
   "cell_type": "code",
   "execution_count": 5,
   "id": "d7f8de12",
   "metadata": {
    "execution": {
     "iopub.execute_input": "2022-05-13T18:39:38.684971Z",
     "iopub.status.busy": "2022-05-13T18:39:38.684483Z",
     "iopub.status.idle": "2022-05-13T19:55:12.971553Z",
     "shell.execute_reply": "2022-05-13T19:55:12.970270Z"
    },
    "papermill": {
     "duration": 4534.460596,
     "end_time": "2022-05-13T19:55:12.975081",
     "exception": false,
     "start_time": "2022-05-13T18:39:38.514485",
     "status": "completed"
    },
    "tags": []
   },
   "outputs": [
    {
     "name": "stdout",
     "output_type": "stream",
     "text": [
      "100%|█████████████████████████████████████| 6948/6948 [00:05<00:00, 1257.82it/s]\r\n",
      "100%|███████████████████████████████████████| 348/348 [1:15:08<00:00, 12.96s/it]\r\n"
     ]
    }
   ],
   "source": [
    "!python ./text-detoxification/t5-inference.py \\\n",
    "    --model-name sberbank-ai/ruT5-base \\\n",
    "    --model-path ../input/detox-full-train-sberbank-ai-rut5-base-03/model-10.dump \\\n",
    "    --max-length 110 \\\n",
    "    --toxic-path {os.environ.get('TRAIN_PATH')} \\\n",
    "    --detoxic-path ./answer-full-train-50.txt"
   ]
  },
  {
   "cell_type": "code",
   "execution_count": 6,
   "id": "4567062f",
   "metadata": {
    "execution": {
     "iopub.execute_input": "2022-05-13T19:55:13.634124Z",
     "iopub.status.busy": "2022-05-13T19:55:13.633591Z",
     "iopub.status.idle": "2022-05-13T21:14:52.095030Z",
     "shell.execute_reply": "2022-05-13T21:14:52.093681Z"
    },
    "papermill": {
     "duration": 4778.779172,
     "end_time": "2022-05-13T21:14:52.098024",
     "exception": false,
     "start_time": "2022-05-13T19:55:13.318852",
     "status": "completed"
    },
    "tags": []
   },
   "outputs": [
    {
     "name": "stdout",
     "output_type": "stream",
     "text": [
      "100%|█████████████████████████████████████| 6948/6948 [00:05<00:00, 1354.75it/s]\r\n",
      "100%|███████████████████████████████████████| 348/348 [1:19:16<00:00, 13.67s/it]\r\n"
     ]
    }
   ],
   "source": [
    "!python ./text-detoxification/t5-inference.py \\\n",
    "    --model-name sberbank-ai/ruT5-base \\\n",
    "    --model-path ../input/detox-full-train-sberbank-ai-rut5-base-03/model-15.dump \\\n",
    "    --max-length 110 \\\n",
    "    --toxic-path {os.environ.get('TRAIN_PATH')} \\\n",
    "    --detoxic-path ./answer-full-train-55.txt"
   ]
  },
  {
   "cell_type": "code",
   "execution_count": 7,
   "id": "5847c78a",
   "metadata": {
    "execution": {
     "iopub.execute_input": "2022-05-13T21:14:53.015239Z",
     "iopub.status.busy": "2022-05-13T21:14:53.014667Z",
     "iopub.status.idle": "2022-05-13T22:31:48.145099Z",
     "shell.execute_reply": "2022-05-13T22:31:48.144053Z"
    },
    "papermill": {
     "duration": 4615.595177,
     "end_time": "2022-05-13T22:31:48.148328",
     "exception": false,
     "start_time": "2022-05-13T21:14:52.553151",
     "status": "completed"
    },
    "tags": []
   },
   "outputs": [
    {
     "name": "stdout",
     "output_type": "stream",
     "text": [
      "100%|█████████████████████████████████████| 6948/6948 [00:05<00:00, 1331.04it/s]\r\n",
      "100%|███████████████████████████████████████| 348/348 [1:16:32<00:00, 13.20s/it]\r\n"
     ]
    }
   ],
   "source": [
    "!python ./text-detoxification/t5-inference.py \\\n",
    "    --model-name sberbank-ai/ruT5-base \\\n",
    "    --model-path ../input/detox-full-train-sberbank-ai-rut5-base-03/model-20.dump \\\n",
    "    --max-length 110 \\\n",
    "    --toxic-path {os.environ.get('TRAIN_PATH')} \\\n",
    "    --detoxic-path ./answer-full-train-60.txt"
   ]
  },
  {
   "cell_type": "code",
   "execution_count": 8,
   "id": "54c3de9c",
   "metadata": {
    "execution": {
     "iopub.execute_input": "2022-05-13T22:31:49.459867Z",
     "iopub.status.busy": "2022-05-13T22:31:49.459231Z",
     "iopub.status.idle": "2022-05-13T22:31:50.239882Z",
     "shell.execute_reply": "2022-05-13T22:31:50.238644Z"
    },
    "papermill": {
     "duration": 1.443586,
     "end_time": "2022-05-13T22:31:50.242757",
     "exception": false,
     "start_time": "2022-05-13T22:31:48.799171",
     "status": "completed"
    },
    "tags": []
   },
   "outputs": [],
   "source": [
    "!rm -r ./text-detoxification"
   ]
  }
 ],
 "metadata": {
  "kernelspec": {
   "display_name": "Python 3",
   "language": "python",
   "name": "python3"
  },
  "language_info": {
   "codemirror_mode": {
    "name": "ipython",
    "version": 3
   },
   "file_extension": ".py",
   "mimetype": "text/x-python",
   "name": "python",
   "nbconvert_exporter": "python",
   "pygments_lexer": "ipython3",
   "version": "3.7.12"
  },
  "papermill": {
   "default_parameters": {},
   "duration": 18405.305843,
   "end_time": "2022-05-13T22:31:51.734520",
   "environment_variables": {},
   "exception": null,
   "input_path": "__notebook__.ipynb",
   "output_path": "__notebook__.ipynb",
   "parameters": {},
   "start_time": "2022-05-13T17:25:06.428677",
   "version": "2.3.4"
  }
 },
 "nbformat": 4,
 "nbformat_minor": 5
}
