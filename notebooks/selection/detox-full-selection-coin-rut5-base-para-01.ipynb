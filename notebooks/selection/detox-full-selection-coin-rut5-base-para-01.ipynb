{
 "cells": [
  {
   "cell_type": "code",
   "execution_count": 1,
   "id": "14c71337",
   "metadata": {
    "_cell_guid": "b1076dfc-b9ad-4769-8c92-a6c4dae69d19",
    "_uuid": "8f2839f25d086af736a60e9eeb907d3b93b6e0e5",
    "execution": {
     "iopub.execute_input": "2022-05-13T18:45:07.345651Z",
     "iopub.status.busy": "2022-05-13T18:45:07.345268Z",
     "iopub.status.idle": "2022-05-13T18:45:07.364289Z",
     "shell.execute_reply": "2022-05-13T18:45:07.363641Z"
    },
    "papermill": {
     "duration": 0.032799,
     "end_time": "2022-05-13T18:45:07.366731",
     "exception": false,
     "start_time": "2022-05-13T18:45:07.333932",
     "status": "completed"
    },
    "tags": []
   },
   "outputs": [],
   "source": [
    "import os, sys\n",
    "from dotenv import load_dotenv"
   ]
  },
  {
   "cell_type": "code",
   "execution_count": 2,
   "id": "7d39ed9c",
   "metadata": {
    "execution": {
     "iopub.execute_input": "2022-05-13T18:45:07.386755Z",
     "iopub.status.busy": "2022-05-13T18:45:07.385588Z",
     "iopub.status.idle": "2022-05-13T18:45:09.044150Z",
     "shell.execute_reply": "2022-05-13T18:45:09.042943Z"
    },
    "papermill": {
     "duration": 1.670757,
     "end_time": "2022-05-13T18:45:09.046891",
     "exception": false,
     "start_time": "2022-05-13T18:45:07.376134",
     "status": "completed"
    },
    "tags": []
   },
   "outputs": [
    {
     "name": "stdout",
     "output_type": "stream",
     "text": [
      "Cloning into 'text-detoxification'...\r\n",
      "remote: Enumerating objects: 56, done.\u001b[K\r\n",
      "remote: Counting objects: 100% (56/56), done.\u001b[K\r\n",
      "remote: Compressing objects: 100% (43/43), done.\u001b[K\r\n",
      "remote: Total 56 (delta 28), reused 36 (delta 11), pack-reused 0\u001b[K\r\n",
      "Unpacking objects: 100% (56/56), 9.32 KiB | 183.00 KiB/s, done.\r\n"
     ]
    }
   ],
   "source": [
    "!git clone https://github.com/basic-go-ahead/text-detoxification.git"
   ]
  },
  {
   "cell_type": "code",
   "execution_count": 3,
   "id": "aefcacb5",
   "metadata": {
    "execution": {
     "iopub.execute_input": "2022-05-13T18:45:09.069649Z",
     "iopub.status.busy": "2022-05-13T18:45:09.069063Z",
     "iopub.status.idle": "2022-05-13T18:45:09.078712Z",
     "shell.execute_reply": "2022-05-13T18:45:09.077999Z"
    },
    "papermill": {
     "duration": 0.023635,
     "end_time": "2022-05-13T18:45:09.081436",
     "exception": false,
     "start_time": "2022-05-13T18:45:09.057801",
     "status": "completed"
    },
    "tags": []
   },
   "outputs": [
    {
     "data": {
      "text/plain": [
       "True"
      ]
     },
     "execution_count": 3,
     "metadata": {},
     "output_type": "execute_result"
    }
   ],
   "source": [
    "load_dotenv('./text-detoxification/pipeline.env')"
   ]
  },
  {
   "cell_type": "code",
   "execution_count": 4,
   "id": "1370ecb5",
   "metadata": {
    "execution": {
     "iopub.execute_input": "2022-05-13T18:45:09.104357Z",
     "iopub.status.busy": "2022-05-13T18:45:09.104086Z",
     "iopub.status.idle": "2022-05-13T20:32:41.888960Z",
     "shell.execute_reply": "2022-05-13T20:32:41.887655Z"
    },
    "papermill": {
     "duration": 6452.79974,
     "end_time": "2022-05-13T20:32:41.892011",
     "exception": false,
     "start_time": "2022-05-13T18:45:09.092271",
     "status": "completed"
    },
    "tags": []
   },
   "outputs": [
    {
     "name": "stdout",
     "output_type": "stream",
     "text": [
      "Downloading: 100%|███████████████████████████| 808k/808k [00:00<00:00, 1.25MB/s]\r\n",
      "Downloading: 100%|███████████████████████████| 65.0/65.0 [00:00<00:00, 50.4kB/s]\r\n",
      "Downloading: 100%|██████████████████████████████| 315/315 [00:00<00:00, 245kB/s]\r\n",
      "100%|█████████████████████████████████████| 6948/6948 [00:04<00:00, 1446.41it/s]\r\n",
      "100%|███████████████████████████████████████| 348/348 [1:47:01<00:00, 18.45s/it]\r\n"
     ]
    }
   ],
   "source": [
    "!python ./text-detoxification/t5-inference.py \\\n",
    "    --model-name cointegrated/rut5-base-paraphraser \\\n",
    "    --model-path ../input/detox-full-train-cointegrated-rut5-base-para-01/model-12.dump \\\n",
    "    --max-length 180 \\\n",
    "    --toxic-path {os.environ.get('TRAIN_PATH')} \\\n",
    "    --detoxic-path ./answer-coin-train-12.txt"
   ]
  },
  {
   "cell_type": "code",
   "execution_count": 5,
   "id": "3e4b4f77",
   "metadata": {
    "execution": {
     "iopub.execute_input": "2022-05-13T20:32:42.217812Z",
     "iopub.status.busy": "2022-05-13T20:32:42.217418Z",
     "iopub.status.idle": "2022-05-13T22:26:45.241702Z",
     "shell.execute_reply": "2022-05-13T22:26:45.240482Z"
    },
    "papermill": {
     "duration": 6843.190075,
     "end_time": "2022-05-13T22:26:45.244835",
     "exception": false,
     "start_time": "2022-05-13T20:32:42.054760",
     "status": "completed"
    },
    "tags": []
   },
   "outputs": [
    {
     "name": "stdout",
     "output_type": "stream",
     "text": [
      "100%|█████████████████████████████████████| 6948/6948 [00:05<00:00, 1388.98it/s]\r\n",
      "100%|███████████████████████████████████████| 348/348 [1:53:34<00:00, 19.58s/it]\r\n"
     ]
    }
   ],
   "source": [
    "!python ./text-detoxification/t5-inference.py \\\n",
    "    --model-name cointegrated/rut5-base-paraphraser \\\n",
    "    --model-path ../input/detox-full-train-cointegrated-rut5-base-para-01/model-15.dump \\\n",
    "    --max-length 180 \\\n",
    "    --toxic-path {os.environ.get('TRAIN_PATH')} \\\n",
    "    --detoxic-path ./answer-coin-train-15.txt"
   ]
  },
  {
   "cell_type": "code",
   "execution_count": 6,
   "id": "52430364",
   "metadata": {
    "execution": {
     "iopub.execute_input": "2022-05-13T22:26:45.854339Z",
     "iopub.status.busy": "2022-05-13T22:26:45.853379Z",
     "iopub.status.idle": "2022-05-14T00:15:45.111347Z",
     "shell.execute_reply": "2022-05-14T00:15:45.109972Z"
    },
    "papermill": {
     "duration": 6539.566853,
     "end_time": "2022-05-14T00:15:45.114439",
     "exception": false,
     "start_time": "2022-05-13T22:26:45.547586",
     "status": "completed"
    },
    "tags": []
   },
   "outputs": [
    {
     "name": "stdout",
     "output_type": "stream",
     "text": [
      "100%|█████████████████████████████████████| 6948/6948 [00:04<00:00, 1407.49it/s]\r\n",
      "100%|███████████████████████████████████████| 348/348 [1:48:32<00:00, 18.71s/it]\r\n"
     ]
    }
   ],
   "source": [
    "!python ./text-detoxification/t5-inference.py \\\n",
    "    --model-name cointegrated/rut5-base-paraphraser \\\n",
    "    --model-path ../input/detox-full-train-cointegrated-rut5-base-para-01/model-20.dump \\\n",
    "    --max-length 180 \\\n",
    "    --toxic-path {os.environ.get('TRAIN_PATH')} \\\n",
    "    --detoxic-path ./answer-coin-train-20.txt"
   ]
  },
  {
   "cell_type": "code",
   "execution_count": 7,
   "id": "cc0a9b9b",
   "metadata": {
    "execution": {
     "iopub.execute_input": "2022-05-14T00:15:46.027030Z",
     "iopub.status.busy": "2022-05-14T00:15:46.026625Z",
     "iopub.status.idle": "2022-05-14T00:15:46.804013Z",
     "shell.execute_reply": "2022-05-14T00:15:46.802733Z"
    },
    "papermill": {
     "duration": 1.23978,
     "end_time": "2022-05-14T00:15:46.806602",
     "exception": false,
     "start_time": "2022-05-14T00:15:45.566822",
     "status": "completed"
    },
    "tags": []
   },
   "outputs": [],
   "source": [
    "!rm -r ./text-detoxification"
   ]
  }
 ],
 "metadata": {
  "kernelspec": {
   "display_name": "Python 3",
   "language": "python",
   "name": "python3"
  },
  "language_info": {
   "codemirror_mode": {
    "name": "ipython",
    "version": 3
   },
   "file_extension": ".py",
   "mimetype": "text/x-python",
   "name": "python",
   "nbconvert_exporter": "python",
   "pygments_lexer": "ipython3",
   "version": "3.7.12"
  },
  "papermill": {
   "default_parameters": {},
   "duration": 19850.985355,
   "end_time": "2022-05-14T00:15:48.028833",
   "environment_variables": {},
   "exception": null,
   "input_path": "__notebook__.ipynb",
   "output_path": "__notebook__.ipynb",
   "parameters": {},
   "start_time": "2022-05-13T18:44:57.043478",
   "version": "2.3.4"
  }
 },
 "nbformat": 4,
 "nbformat_minor": 5
}
