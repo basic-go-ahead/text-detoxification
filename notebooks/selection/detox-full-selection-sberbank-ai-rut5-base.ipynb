{
 "cells": [
  {
   "cell_type": "code",
   "execution_count": 1,
   "id": "79c9e081",
   "metadata": {
    "_cell_guid": "b1076dfc-b9ad-4769-8c92-a6c4dae69d19",
    "_uuid": "8f2839f25d086af736a60e9eeb907d3b93b6e0e5",
    "execution": {
     "iopub.execute_input": "2022-05-12T12:34:35.249073Z",
     "iopub.status.busy": "2022-05-12T12:34:35.248539Z",
     "iopub.status.idle": "2022-05-12T12:34:35.265098Z",
     "shell.execute_reply": "2022-05-12T12:34:35.264447Z"
    },
    "papermill": {
     "duration": 0.033089,
     "end_time": "2022-05-12T12:34:35.267317",
     "exception": false,
     "start_time": "2022-05-12T12:34:35.234228",
     "status": "completed"
    },
    "tags": []
   },
   "outputs": [],
   "source": [
    "import os, sys\n",
    "from dotenv import load_dotenv"
   ]
  },
  {
   "cell_type": "code",
   "execution_count": 2,
   "id": "17f27881",
   "metadata": {
    "execution": {
     "iopub.execute_input": "2022-05-12T12:34:35.295896Z",
     "iopub.status.busy": "2022-05-12T12:34:35.295322Z",
     "iopub.status.idle": "2022-05-12T12:34:37.551542Z",
     "shell.execute_reply": "2022-05-12T12:34:37.550581Z"
    },
    "papermill": {
     "duration": 2.27373,
     "end_time": "2022-05-12T12:34:37.553887",
     "exception": false,
     "start_time": "2022-05-12T12:34:35.280157",
     "status": "completed"
    },
    "tags": []
   },
   "outputs": [
    {
     "name": "stdout",
     "output_type": "stream",
     "text": [
      "Cloning into 'text-detoxification'...\r\n",
      "remote: Enumerating objects: 56, done.\u001b[K\r\n",
      "remote: Counting objects: 100% (56/56), done.\u001b[K\r\n",
      "remote: Compressing objects: 100% (43/43), done.\u001b[K\r\n",
      "remote: Total 56 (delta 28), reused 36 (delta 11), pack-reused 0\u001b[K\r\n",
      "Unpacking objects: 100% (56/56), 9.32 KiB | 733.00 KiB/s, done.\r\n"
     ]
    }
   ],
   "source": [
    "!git clone https://github.com/basic-go-ahead/text-detoxification.git"
   ]
  },
  {
   "cell_type": "code",
   "execution_count": 3,
   "id": "31c912f0",
   "metadata": {
    "execution": {
     "iopub.execute_input": "2022-05-12T12:34:37.581728Z",
     "iopub.status.busy": "2022-05-12T12:34:37.581475Z",
     "iopub.status.idle": "2022-05-12T12:34:37.590724Z",
     "shell.execute_reply": "2022-05-12T12:34:37.589894Z"
    },
    "papermill": {
     "duration": 0.02535,
     "end_time": "2022-05-12T12:34:37.592609",
     "exception": false,
     "start_time": "2022-05-12T12:34:37.567259",
     "status": "completed"
    },
    "tags": []
   },
   "outputs": [
    {
     "data": {
      "text/plain": [
       "True"
      ]
     },
     "execution_count": 3,
     "metadata": {},
     "output_type": "execute_result"
    }
   ],
   "source": [
    "load_dotenv('./text-detoxification/pipeline.env')"
   ]
  },
  {
   "cell_type": "code",
   "execution_count": 4,
   "id": "93164c8f",
   "metadata": {
    "execution": {
     "iopub.execute_input": "2022-05-12T12:34:37.620398Z",
     "iopub.status.busy": "2022-05-12T12:34:37.620101Z",
     "iopub.status.idle": "2022-05-12T13:48:43.845410Z",
     "shell.execute_reply": "2022-05-12T13:48:43.844395Z"
    },
    "papermill": {
     "duration": 4446.242415,
     "end_time": "2022-05-12T13:48:43.847872",
     "exception": false,
     "start_time": "2022-05-12T12:34:37.605457",
     "status": "completed"
    },
    "tags": []
   },
   "outputs": [
    {
     "name": "stdout",
     "output_type": "stream",
     "text": [
      "Downloading: 100%|████████████████████████████| 980k/980k [00:01<00:00, 799kB/s]\r\n",
      "Downloading: 100%|█████████████████████████| 1.37k/1.37k [00:00<00:00, 1.03MB/s]\r\n",
      "100%|█████████████████████████████████████| 6948/6948 [00:04<00:00, 1473.21it/s]\r\n",
      "100%|███████████████████████████████████████| 348/348 [1:13:32<00:00, 12.68s/it]\r\n"
     ]
    }
   ],
   "source": [
    "!python ./text-detoxification/t5-inference.py \\\n",
    "    --model-name sberbank-ai/ruT5-base \\\n",
    "    --model-path ../input/detox-full-train-sberbank-ai-rut5-base/model-12.dump \\\n",
    "    --max-length 110 \\\n",
    "    --toxic-path {os.environ.get('TRAIN_PATH')} \\\n",
    "    --detoxic-path ./answer-full-train-12.txt"
   ]
  },
  {
   "cell_type": "code",
   "execution_count": 5,
   "id": "db4b1bd6",
   "metadata": {
    "execution": {
     "iopub.execute_input": "2022-05-12T13:48:44.172971Z",
     "iopub.status.busy": "2022-05-12T13:48:44.172638Z",
     "iopub.status.idle": "2022-05-12T14:58:42.209547Z",
     "shell.execute_reply": "2022-05-12T14:58:42.208573Z"
    },
    "papermill": {
     "duration": 4198.200026,
     "end_time": "2022-05-12T14:58:42.212098",
     "exception": false,
     "start_time": "2022-05-12T13:48:44.012072",
     "status": "completed"
    },
    "tags": []
   },
   "outputs": [
    {
     "name": "stdout",
     "output_type": "stream",
     "text": [
      "100%|█████████████████████████████████████| 6948/6948 [00:04<00:00, 1484.25it/s]\r\n",
      "100%|███████████████████████████████████████| 348/348 [1:09:33<00:00, 11.99s/it]\r\n"
     ]
    }
   ],
   "source": [
    "!python ./text-detoxification/t5-inference.py \\\n",
    "    --model-name sberbank-ai/ruT5-base \\\n",
    "    --model-path ../input/detox-full-train-sberbank-ai-rut5-base/model-15.dump \\\n",
    "    --max-length 110 \\\n",
    "    --toxic-path {os.environ.get('TRAIN_PATH')} \\\n",
    "    --detoxic-path ./answer-full-train-15.txt"
   ]
  },
  {
   "cell_type": "code",
   "execution_count": 6,
   "id": "22310c3f",
   "metadata": {
    "execution": {
     "iopub.execute_input": "2022-05-12T14:58:42.819568Z",
     "iopub.status.busy": "2022-05-12T14:58:42.819250Z",
     "iopub.status.idle": "2022-05-12T16:19:04.990877Z",
     "shell.execute_reply": "2022-05-12T16:19:04.989756Z"
    },
    "papermill": {
     "duration": 4822.47531,
     "end_time": "2022-05-12T16:19:04.993657",
     "exception": false,
     "start_time": "2022-05-12T14:58:42.518347",
     "status": "completed"
    },
    "tags": []
   },
   "outputs": [
    {
     "name": "stdout",
     "output_type": "stream",
     "text": [
      "100%|█████████████████████████████████████| 6948/6948 [00:04<00:00, 1487.21it/s]\r\n",
      "100%|███████████████████████████████████████| 348/348 [1:19:57<00:00, 13.78s/it]\r\n"
     ]
    }
   ],
   "source": [
    "!python ./text-detoxification/t5-inference.py \\\n",
    "    --model-name sberbank-ai/ruT5-base \\\n",
    "    --model-path ../input/detox-full-train-sberbank-ai-rut5-base/model-20.dump \\\n",
    "    --max-length 110 \\\n",
    "    --toxic-path {os.environ.get('TRAIN_PATH')} \\\n",
    "    --detoxic-path ./answer-full-train-20.txt"
   ]
  },
  {
   "cell_type": "code",
   "execution_count": 7,
   "id": "77a4eed9",
   "metadata": {
    "execution": {
     "iopub.execute_input": "2022-05-12T16:19:05.900043Z",
     "iopub.status.busy": "2022-05-12T16:19:05.899626Z",
     "iopub.status.idle": "2022-05-12T17:35:18.537741Z",
     "shell.execute_reply": "2022-05-12T17:35:18.536792Z"
    },
    "papermill": {
     "duration": 4573.091566,
     "end_time": "2022-05-12T17:35:18.540156",
     "exception": false,
     "start_time": "2022-05-12T16:19:05.448590",
     "status": "completed"
    },
    "tags": []
   },
   "outputs": [
    {
     "name": "stdout",
     "output_type": "stream",
     "text": [
      "100%|█████████████████████████████████████| 6948/6948 [00:04<00:00, 1406.28it/s]\r\n",
      "100%|███████████████████████████████████████| 348/348 [1:15:47<00:00, 13.07s/it]\r\n"
     ]
    }
   ],
   "source": [
    "!python ./text-detoxification/t5-inference.py \\\n",
    "    --model-name sberbank-ai/ruT5-base \\\n",
    "    --model-path ../input/detox-full-train-sberbank-ai-rut5-base-02/model-05.dump \\\n",
    "    --max-length 110 \\\n",
    "    --toxic-path {os.environ.get('TRAIN_PATH')} \\\n",
    "    --detoxic-path ./answer-full-train-25.txt"
   ]
  },
  {
   "cell_type": "code",
   "execution_count": 8,
   "id": "30385f52",
   "metadata": {
    "execution": {
     "iopub.execute_input": "2022-05-12T17:35:19.672423Z",
     "iopub.status.busy": "2022-05-12T17:35:19.671941Z",
     "iopub.status.idle": "2022-05-12T18:51:30.101359Z",
     "shell.execute_reply": "2022-05-12T18:51:30.099715Z"
    },
    "papermill": {
     "duration": 4571.002257,
     "end_time": "2022-05-12T18:51:30.105041",
     "exception": false,
     "start_time": "2022-05-12T17:35:19.102784",
     "status": "completed"
    },
    "tags": []
   },
   "outputs": [
    {
     "name": "stdout",
     "output_type": "stream",
     "text": [
      "100%|█████████████████████████████████████| 6948/6948 [00:04<00:00, 1538.03it/s]\r\n",
      "100%|███████████████████████████████████████| 348/348 [1:15:46<00:00, 13.06s/it]\r\n"
     ]
    }
   ],
   "source": [
    "!python ./text-detoxification/t5-inference.py \\\n",
    "    --model-name sberbank-ai/ruT5-base \\\n",
    "    --model-path ../input/detox-full-train-sberbank-ai-rut5-base-02/model-10.dump \\\n",
    "    --max-length 110 \\\n",
    "    --toxic-path {os.environ.get('TRAIN_PATH')} \\\n",
    "    --detoxic-path ./answer-full-train-30.txt"
   ]
  },
  {
   "cell_type": "code",
   "execution_count": 9,
   "id": "840f3ac2",
   "metadata": {
    "execution": {
     "iopub.execute_input": "2022-05-12T18:51:31.800679Z",
     "iopub.status.busy": "2022-05-12T18:51:31.800177Z",
     "iopub.status.idle": "2022-05-12T20:19:52.337112Z",
     "shell.execute_reply": "2022-05-12T20:19:52.335428Z"
    },
    "papermill": {
     "duration": 5301.316216,
     "end_time": "2022-05-12T20:19:52.340136",
     "exception": false,
     "start_time": "2022-05-12T18:51:31.023920",
     "status": "completed"
    },
    "tags": []
   },
   "outputs": [
    {
     "name": "stdout",
     "output_type": "stream",
     "text": [
      "100%|█████████████████████████████████████| 6948/6948 [00:05<00:00, 1353.41it/s]\r\n",
      "100%|███████████████████████████████████████| 348/348 [1:27:52<00:00, 15.15s/it]\r\n"
     ]
    }
   ],
   "source": [
    "!python ./text-detoxification/t5-inference.py \\\n",
    "    --model-name sberbank-ai/ruT5-base \\\n",
    "    --model-path ../input/detox-full-train-sberbank-ai-rut5-base-02/model-15.dump \\\n",
    "    --max-length 110 \\\n",
    "    --toxic-path {os.environ.get('TRAIN_PATH')} \\\n",
    "    --detoxic-path ./answer-full-train-35.txt"
   ]
  },
  {
   "cell_type": "code",
   "execution_count": 10,
   "id": "c26e8363",
   "metadata": {
    "execution": {
     "iopub.execute_input": "2022-05-12T20:19:54.135906Z",
     "iopub.status.busy": "2022-05-12T20:19:54.135497Z",
     "iopub.status.idle": "2022-05-12T21:36:31.357134Z",
     "shell.execute_reply": "2022-05-12T21:36:31.355613Z"
    },
    "papermill": {
     "duration": 4598.120828,
     "end_time": "2022-05-12T21:36:31.359773",
     "exception": false,
     "start_time": "2022-05-12T20:19:53.238945",
     "status": "completed"
    },
    "tags": []
   },
   "outputs": [
    {
     "name": "stdout",
     "output_type": "stream",
     "text": [
      "100%|█████████████████████████████████████| 6948/6948 [00:05<00:00, 1341.50it/s]\r\n",
      "100%|███████████████████████████████████████| 348/348 [1:16:10<00:00, 13.13s/it]\r\n"
     ]
    }
   ],
   "source": [
    "!python ./text-detoxification/t5-inference.py \\\n",
    "    --model-name sberbank-ai/ruT5-base \\\n",
    "    --model-path ../input/detox-full-train-sberbank-ai-rut5-base-02/model-20.dump \\\n",
    "    --max-length 110 \\\n",
    "    --toxic-path {os.environ.get('TRAIN_PATH')} \\\n",
    "    --detoxic-path ./answer-full-train-40.txt"
   ]
  },
  {
   "cell_type": "code",
   "execution_count": 11,
   "id": "5580869a",
   "metadata": {
    "execution": {
     "iopub.execute_input": "2022-05-12T21:36:33.459058Z",
     "iopub.status.busy": "2022-05-12T21:36:33.458459Z",
     "iopub.status.idle": "2022-05-12T21:36:34.241940Z",
     "shell.execute_reply": "2022-05-12T21:36:34.240994Z"
    },
    "papermill": {
     "duration": 1.836264,
     "end_time": "2022-05-12T21:36:34.244504",
     "exception": false,
     "start_time": "2022-05-12T21:36:32.408240",
     "status": "completed"
    },
    "tags": []
   },
   "outputs": [],
   "source": [
    "!rm -r ./text-detoxification"
   ]
  }
 ],
 "metadata": {
  "kernelspec": {
   "display_name": "Python 3",
   "language": "python",
   "name": "python3"
  },
  "language_info": {
   "codemirror_mode": {
    "name": "ipython",
    "version": 3
   },
   "file_extension": ".py",
   "mimetype": "text/x-python",
   "name": "python",
   "nbconvert_exporter": "python",
   "pygments_lexer": "ipython3",
   "version": "3.7.12"
  },
  "papermill": {
   "default_parameters": {},
   "duration": 32530.372039,
   "end_time": "2022-05-12T21:36:36.614136",
   "environment_variables": {},
   "exception": null,
   "input_path": "__notebook__.ipynb",
   "output_path": "__notebook__.ipynb",
   "parameters": {},
   "start_time": "2022-05-12T12:34:26.242097",
   "version": "2.3.4"
  }
 },
 "nbformat": 4,
 "nbformat_minor": 5
}
