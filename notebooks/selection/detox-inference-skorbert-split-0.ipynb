{
 "cells": [
  {
   "cell_type": "code",
   "execution_count": 1,
   "id": "43e2c574",
   "metadata": {
    "_cell_guid": "b1076dfc-b9ad-4769-8c92-a6c4dae69d19",
    "_uuid": "8f2839f25d086af736a60e9eeb907d3b93b6e0e5",
    "execution": {
     "iopub.execute_input": "2022-05-18T01:36:55.341841Z",
     "iopub.status.busy": "2022-05-18T01:36:55.341272Z",
     "iopub.status.idle": "2022-05-18T01:36:55.360453Z",
     "shell.execute_reply": "2022-05-18T01:36:55.359470Z"
    },
    "papermill": {
     "duration": 0.034377,
     "end_time": "2022-05-18T01:36:55.363248",
     "exception": false,
     "start_time": "2022-05-18T01:36:55.328871",
     "status": "completed"
    },
    "tags": []
   },
   "outputs": [],
   "source": [
    "import os\n",
    "from dotenv import load_dotenv\n",
    "import json"
   ]
  },
  {
   "cell_type": "code",
   "execution_count": 2,
   "id": "dbd6bdb9",
   "metadata": {
    "execution": {
     "iopub.execute_input": "2022-05-18T01:36:55.384498Z",
     "iopub.status.busy": "2022-05-18T01:36:55.384191Z",
     "iopub.status.idle": "2022-05-18T01:36:57.713639Z",
     "shell.execute_reply": "2022-05-18T01:36:57.712656Z"
    },
    "papermill": {
     "duration": 2.343011,
     "end_time": "2022-05-18T01:36:57.716389",
     "exception": false,
     "start_time": "2022-05-18T01:36:55.373378",
     "status": "completed"
    },
    "tags": []
   },
   "outputs": [
    {
     "name": "stdout",
     "output_type": "stream",
     "text": [
      "Cloning into 'text-detoxification'...\r\n",
      "remote: Enumerating objects: 105, done.\u001b[K\r\n",
      "remote: Counting objects: 100% (105/105), done.\u001b[K\r\n",
      "remote: Compressing objects: 100% (78/78), done.\u001b[K\r\n",
      "remote: Total 105 (delta 59), reused 68 (delta 25), pack-reused 0\u001b[K\r\n",
      "Receiving objects: 100% (105/105), 17.78 KiB | 5.93 MiB/s, done.\r\n",
      "Resolving deltas: 100% (59/59), done.\r\n"
     ]
    }
   ],
   "source": [
    "!git clone https://github.com/basic-go-ahead/text-detoxification.git"
   ]
  },
  {
   "cell_type": "code",
   "execution_count": 3,
   "id": "99ddfe5d",
   "metadata": {
    "execution": {
     "iopub.execute_input": "2022-05-18T01:36:57.741707Z",
     "iopub.status.busy": "2022-05-18T01:36:57.741405Z",
     "iopub.status.idle": "2022-05-18T01:36:57.751437Z",
     "shell.execute_reply": "2022-05-18T01:36:57.750673Z"
    },
    "papermill": {
     "duration": 0.025088,
     "end_time": "2022-05-18T01:36:57.753461",
     "exception": false,
     "start_time": "2022-05-18T01:36:57.728373",
     "status": "completed"
    },
    "tags": []
   },
   "outputs": [
    {
     "data": {
      "text/plain": [
       "True"
      ]
     },
     "execution_count": 3,
     "metadata": {},
     "output_type": "execute_result"
    }
   ],
   "source": [
    "load_dotenv('./text-detoxification/pipeline.env')"
   ]
  },
  {
   "cell_type": "code",
   "execution_count": 4,
   "id": "7757306c",
   "metadata": {
    "execution": {
     "iopub.execute_input": "2022-05-18T01:36:57.778170Z",
     "iopub.status.busy": "2022-05-18T01:36:57.777564Z",
     "iopub.status.idle": "2022-05-18T01:37:13.714153Z",
     "shell.execute_reply": "2022-05-18T01:37:13.713076Z"
    },
    "papermill": {
     "duration": 15.951879,
     "end_time": "2022-05-18T01:37:13.716772",
     "exception": false,
     "start_time": "2022-05-18T01:36:57.764893",
     "status": "completed"
    },
    "tags": []
   },
   "outputs": [
    {
     "name": "stdout",
     "output_type": "stream",
     "text": [
      "Archive:  ../input/detox-inference-playground/submission-full-sber-12.zip\r\n",
      "  inflating: answer.txt              \r\n",
      "Archive:  ../input/detox-inference-playground/submission-full-sber-15.zip\r\n",
      "  inflating: answer.txt              \r\n",
      "Archive:  ../input/detox-inference-playground/submission-full-sber-20.zip\r\n",
      "  inflating: answer.txt              \r\n",
      "Archive:  ../input/detox-inference-sberbank-ai-rut5-base-02/submission-full-sber-05.zip\r\n",
      "  inflating: answer.txt              \r\n",
      "Archive:  ../input/detox-inference-sberbank-ai-rut5-base-02/submission-full-sber-10.zip\r\n",
      "  inflating: answer.txt              \r\n",
      "Archive:  ../input/detox-inference-sberbank-ai-rut5-base-02/submission-full-sber-15.zip\r\n",
      "  inflating: answer.txt              \r\n",
      "Archive:  ../input/detox-inference-sberbank-ai-rut5-base-02/submission-full-sber-20.zip\r\n",
      "  inflating: answer.txt              \r\n"
     ]
    }
   ],
   "source": [
    "!unzip ../input/detox-inference-playground/submission-full-sber-12.zip\n",
    "!cp ./answer.txt answer-12.txt\n",
    "!rm -f ./answer.txt\n",
    "!unzip ../input/detox-inference-playground/submission-full-sber-15.zip\n",
    "!cp ./answer.txt answer-15.txt\n",
    "!rm -f ./answer.txt\n",
    "!unzip ../input/detox-inference-playground/submission-full-sber-20.zip\n",
    "!cp ./answer.txt answer-20.txt\n",
    "!rm -f ./answer.txt\n",
    "\n",
    "!unzip ../input/detox-inference-sberbank-ai-rut5-base-02/submission-full-sber-05.zip\n",
    "!cp ./answer.txt answer-25.txt\n",
    "!rm -f ./answer.txt\n",
    "!unzip ../input/detox-inference-sberbank-ai-rut5-base-02/submission-full-sber-10.zip\n",
    "!cp ./answer.txt answer-30.txt\n",
    "!rm -f ./answer.txt\n",
    "!unzip ../input/detox-inference-sberbank-ai-rut5-base-02/submission-full-sber-15.zip\n",
    "!cp ./answer.txt answer-35.txt\n",
    "!rm -f ./answer.txt\n",
    "!unzip ../input/detox-inference-sberbank-ai-rut5-base-02/submission-full-sber-20.zip\n",
    "!cp ./answer.txt answer-40.txt\n",
    "!rm -f ./answer.txt"
   ]
  },
  {
   "cell_type": "code",
   "execution_count": 5,
   "id": "49872895",
   "metadata": {
    "execution": {
     "iopub.execute_input": "2022-05-18T01:37:13.748995Z",
     "iopub.status.busy": "2022-05-18T01:37:13.748050Z",
     "iopub.status.idle": "2022-05-18T01:37:13.754957Z",
     "shell.execute_reply": "2022-05-18T01:37:13.753753Z"
    },
    "papermill": {
     "duration": 0.025597,
     "end_time": "2022-05-18T01:37:13.757314",
     "exception": false,
     "start_time": "2022-05-18T01:37:13.731717",
     "status": "completed"
    },
    "tags": []
   },
   "outputs": [],
   "source": [
    "model_params = dict(\n",
    "    batch_size=733,\n",
    "    model_name='cointegrated/rubert-tiny-toxicity',\n",
    "    max_length=211,\n",
    "    model_dir='../input/detox-train-skorbert-split-0'\n",
    ")\n",
    "\n",
    "folders = ['./', \\\n",
    "    '../input/detox-inference-cointegrated-rut5-base-para-02', \\\n",
    "    '../input/detox-inference-cointegrated-rut5-base-para-01', \\\n",
    "    '../input/detox-inference-sberbank-ai-rut5-base-03'\n",
    "]\n",
    "\n",
    "n = 0"
   ]
  },
  {
   "cell_type": "code",
   "execution_count": 6,
   "id": "4b353108",
   "metadata": {
    "execution": {
     "iopub.execute_input": "2022-05-18T01:37:13.788567Z",
     "iopub.status.busy": "2022-05-18T01:37:13.788258Z",
     "iopub.status.idle": "2022-05-18T01:48:31.924459Z",
     "shell.execute_reply": "2022-05-18T01:48:31.923409Z"
    },
    "papermill": {
     "duration": 678.155443,
     "end_time": "2022-05-18T01:48:31.927610",
     "exception": false,
     "start_time": "2022-05-18T01:37:13.772167",
     "status": "completed"
    },
    "tags": []
   },
   "outputs": [
    {
     "name": "stdout",
     "output_type": "stream",
     "text": [
      "Downloading: 100%|██████████████████████████████| 377/377 [00:00<00:00, 204kB/s]\r\n",
      "Downloading: 100%|████████████████████████████| 235k/235k [00:00<00:00, 333kB/s]\r\n",
      "Downloading: 100%|████████████████████████████| 457k/457k [00:00<00:00, 516kB/s]\r\n",
      "Downloading: 100%|█████████████████████████████| 112/112 [00:00<00:00, 78.9kB/s]\r\n",
      "4398it [00:01, 2409.29it/s]\r\n",
      "100%|█████████████████████████████████████████████| 6/6 [02:07<00:00, 21.20s/it]\r\n",
      "100%|█████████████████████████████████████████████| 6/6 [02:05<00:00, 20.95s/it]\r\n",
      "100%|█████████████████████████████████████████████| 6/6 [02:18<00:00, 23.10s/it]\r\n",
      "100%|█████████████████████████████████████████████| 6/6 [02:07<00:00, 21.29s/it]\r\n",
      "100%|█████████████████████████████████████████████| 6/6 [02:07<00:00, 21.25s/it]\r\n",
      "  adding: answer.txt (deflated 67%)\r\n"
     ]
    }
   ],
   "source": [
    "!mkdir ./split-{n}\n",
    "\n",
    "!python ./text-detoxification/skorbert-inference.py \\\n",
    "    --input-path {os.environ.get('TEST_PATH')} \\\n",
    "    --output-path ./split-{n} \\\n",
    "    --folders {' '.join([json.dumps(f) for f in folders])} \\\n",
    "    --model-params {json.dumps(json.dumps(model_params))}\n",
    "\n",
    "!zip -j ./split-{n}/submission.zip ./split-{n}/answer.txt"
   ]
  },
  {
   "cell_type": "code",
   "execution_count": 7,
   "id": "01e774b9",
   "metadata": {
    "execution": {
     "iopub.execute_input": "2022-05-18T01:48:32.015926Z",
     "iopub.status.busy": "2022-05-18T01:48:32.015612Z",
     "iopub.status.idle": "2022-05-18T01:48:33.548560Z",
     "shell.execute_reply": "2022-05-18T01:48:33.547440Z"
    },
    "papermill": {
     "duration": 1.581325,
     "end_time": "2022-05-18T01:48:33.551248",
     "exception": false,
     "start_time": "2022-05-18T01:48:31.969923",
     "status": "completed"
    },
    "tags": []
   },
   "outputs": [],
   "source": [
    "!rm -f ./*.txt\n",
    "!rm -r ./text-detoxification"
   ]
  }
 ],
 "metadata": {
  "kernelspec": {
   "display_name": "Python 3",
   "language": "python",
   "name": "python3"
  },
  "language_info": {
   "codemirror_mode": {
    "name": "ipython",
    "version": 3
   },
   "file_extension": ".py",
   "mimetype": "text/x-python",
   "name": "python",
   "nbconvert_exporter": "python",
   "pygments_lexer": "ipython3",
   "version": "3.7.12"
  },
  "papermill": {
   "default_parameters": {},
   "duration": 709.567461,
   "end_time": "2022-05-18T01:48:34.319566",
   "environment_variables": {},
   "exception": null,
   "input_path": "__notebook__.ipynb",
   "output_path": "__notebook__.ipynb",
   "parameters": {},
   "start_time": "2022-05-18T01:36:44.752105",
   "version": "2.3.4"
  }
 },
 "nbformat": 4,
 "nbformat_minor": 5
}
