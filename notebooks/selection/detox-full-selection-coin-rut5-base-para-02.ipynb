{
 "cells": [
  {
   "cell_type": "code",
   "execution_count": 1,
   "id": "ef2a4581",
   "metadata": {
    "_cell_guid": "b1076dfc-b9ad-4769-8c92-a6c4dae69d19",
    "_uuid": "8f2839f25d086af736a60e9eeb907d3b93b6e0e5",
    "execution": {
     "iopub.execute_input": "2022-05-13T19:20:21.651545Z",
     "iopub.status.busy": "2022-05-13T19:20:21.651031Z",
     "iopub.status.idle": "2022-05-13T19:20:21.668823Z",
     "shell.execute_reply": "2022-05-13T19:20:21.668104Z"
    },
    "papermill": {
     "duration": 0.031698,
     "end_time": "2022-05-13T19:20:21.671091",
     "exception": false,
     "start_time": "2022-05-13T19:20:21.639393",
     "status": "completed"
    },
    "tags": []
   },
   "outputs": [],
   "source": [
    "import os, sys\n",
    "from dotenv import load_dotenv"
   ]
  },
  {
   "cell_type": "code",
   "execution_count": 2,
   "id": "e42f7d23",
   "metadata": {
    "execution": {
     "iopub.execute_input": "2022-05-13T19:20:21.690906Z",
     "iopub.status.busy": "2022-05-13T19:20:21.690037Z",
     "iopub.status.idle": "2022-05-13T19:20:22.983551Z",
     "shell.execute_reply": "2022-05-13T19:20:22.982790Z"
    },
    "papermill": {
     "duration": 1.305636,
     "end_time": "2022-05-13T19:20:22.985958",
     "exception": false,
     "start_time": "2022-05-13T19:20:21.680322",
     "status": "completed"
    },
    "tags": []
   },
   "outputs": [
    {
     "name": "stdout",
     "output_type": "stream",
     "text": [
      "Cloning into 'text-detoxification'...\r\n",
      "remote: Enumerating objects: 56, done.\u001b[K\r\n",
      "remote: Counting objects: 100% (56/56), done.\u001b[K\r\n",
      "remote: Compressing objects: 100% (43/43), done.\u001b[K\r\n",
      "remote: Total 56 (delta 28), reused 36 (delta 11), pack-reused 0\u001b[K\r\n",
      "Unpacking objects: 100% (56/56), 9.32 KiB | 681.00 KiB/s, done.\r\n"
     ]
    }
   ],
   "source": [
    "!git clone https://github.com/basic-go-ahead/text-detoxification.git"
   ]
  },
  {
   "cell_type": "code",
   "execution_count": 3,
   "id": "911cf10e",
   "metadata": {
    "execution": {
     "iopub.execute_input": "2022-05-13T19:20:23.008544Z",
     "iopub.status.busy": "2022-05-13T19:20:23.008277Z",
     "iopub.status.idle": "2022-05-13T19:20:23.017494Z",
     "shell.execute_reply": "2022-05-13T19:20:23.016608Z"
    },
    "papermill": {
     "duration": 0.023246,
     "end_time": "2022-05-13T19:20:23.019891",
     "exception": false,
     "start_time": "2022-05-13T19:20:22.996645",
     "status": "completed"
    },
    "tags": []
   },
   "outputs": [
    {
     "data": {
      "text/plain": [
       "True"
      ]
     },
     "execution_count": 3,
     "metadata": {},
     "output_type": "execute_result"
    }
   ],
   "source": [
    "load_dotenv('./text-detoxification/pipeline.env')"
   ]
  },
  {
   "cell_type": "code",
   "execution_count": 4,
   "id": "495b74be",
   "metadata": {
    "execution": {
     "iopub.execute_input": "2022-05-13T19:20:23.042380Z",
     "iopub.status.busy": "2022-05-13T19:20:23.042092Z",
     "iopub.status.idle": "2022-05-13T21:13:43.129183Z",
     "shell.execute_reply": "2022-05-13T21:13:43.127615Z"
    },
    "papermill": {
     "duration": 6800.102075,
     "end_time": "2022-05-13T21:13:43.132413",
     "exception": false,
     "start_time": "2022-05-13T19:20:23.030338",
     "status": "completed"
    },
    "tags": []
   },
   "outputs": [
    {
     "name": "stdout",
     "output_type": "stream",
     "text": [
      "Downloading: 100%|███████████████████████████| 808k/808k [00:00<00:00, 1.88MB/s]\r\n",
      "Downloading: 100%|███████████████████████████| 65.0/65.0 [00:00<00:00, 46.7kB/s]\r\n",
      "Downloading: 100%|██████████████████████████████| 315/315 [00:00<00:00, 216kB/s]\r\n",
      "100%|█████████████████████████████████████| 6948/6948 [00:04<00:00, 1430.14it/s]\r\n",
      "100%|███████████████████████████████████████| 348/348 [1:52:52<00:00, 19.46s/it]\r\n"
     ]
    }
   ],
   "source": [
    "!python ./text-detoxification/t5-inference.py \\\n",
    "    --model-name cointegrated/rut5-base-paraphraser \\\n",
    "    --model-path ../input/detox-full-train-cointegrated-rut5-base-para-02/model-05.dump \\\n",
    "    --max-length 180 \\\n",
    "    --toxic-path {os.environ.get('TRAIN_PATH')} \\\n",
    "    --detoxic-path ./answer-coin-train-05.txt"
   ]
  },
  {
   "cell_type": "code",
   "execution_count": 5,
   "id": "b4e4adfe",
   "metadata": {
    "execution": {
     "iopub.execute_input": "2022-05-13T21:13:43.455517Z",
     "iopub.status.busy": "2022-05-13T21:13:43.455084Z",
     "iopub.status.idle": "2022-05-13T23:02:48.218701Z",
     "shell.execute_reply": "2022-05-13T23:02:48.217466Z"
    },
    "papermill": {
     "duration": 6544.928457,
     "end_time": "2022-05-13T23:02:48.221744",
     "exception": false,
     "start_time": "2022-05-13T21:13:43.293287",
     "status": "completed"
    },
    "tags": []
   },
   "outputs": [
    {
     "name": "stdout",
     "output_type": "stream",
     "text": [
      "100%|█████████████████████████████████████| 6948/6948 [00:04<00:00, 1424.42it/s]\r\n",
      "100%|███████████████████████████████████████| 348/348 [1:48:39<00:00, 18.74s/it]\r\n"
     ]
    }
   ],
   "source": [
    "!python ./text-detoxification/t5-inference.py \\\n",
    "    --model-name cointegrated/rut5-base-paraphraser \\\n",
    "    --model-path ../input/detox-full-train-cointegrated-rut5-base-para-02/model-10.dump \\\n",
    "    --max-length 180 \\\n",
    "    --toxic-path {os.environ.get('TRAIN_PATH')} \\\n",
    "    --detoxic-path ./answer-coin-train-10.txt"
   ]
  },
  {
   "cell_type": "code",
   "execution_count": 6,
   "id": "0afe4edf",
   "metadata": {
    "execution": {
     "iopub.execute_input": "2022-05-13T23:02:48.832897Z",
     "iopub.status.busy": "2022-05-13T23:02:48.832557Z",
     "iopub.status.idle": "2022-05-14T00:51:55.735880Z",
     "shell.execute_reply": "2022-05-14T00:51:55.734674Z"
    },
    "papermill": {
     "duration": 6547.21252,
     "end_time": "2022-05-14T00:51:55.739095",
     "exception": false,
     "start_time": "2022-05-13T23:02:48.526575",
     "status": "completed"
    },
    "tags": []
   },
   "outputs": [
    {
     "name": "stdout",
     "output_type": "stream",
     "text": [
      "100%|█████████████████████████████████████| 6948/6948 [00:04<00:00, 1449.88it/s]\r\n",
      "100%|███████████████████████████████████████| 348/348 [1:48:42<00:00, 18.74s/it]\r\n"
     ]
    }
   ],
   "source": [
    "!python ./text-detoxification/t5-inference.py \\\n",
    "    --model-name cointegrated/rut5-base-paraphraser \\\n",
    "    --model-path ../input/detox-full-train-cointegrated-rut5-base-para-02/model-15.dump \\\n",
    "    --max-length 180 \\\n",
    "    --toxic-path {os.environ.get('TRAIN_PATH')} \\\n",
    "    --detoxic-path ./answer-coin-train-15.txt"
   ]
  },
  {
   "cell_type": "code",
   "execution_count": 7,
   "id": "eef40051",
   "metadata": {
    "execution": {
     "iopub.execute_input": "2022-05-14T00:51:56.632228Z",
     "iopub.status.busy": "2022-05-14T00:51:56.631921Z",
     "iopub.status.idle": "2022-05-14T02:40:16.922218Z",
     "shell.execute_reply": "2022-05-14T02:40:16.921052Z"
    },
    "papermill": {
     "duration": 6500.740512,
     "end_time": "2022-05-14T02:40:16.925267",
     "exception": false,
     "start_time": "2022-05-14T00:51:56.184755",
     "status": "completed"
    },
    "tags": []
   },
   "outputs": [
    {
     "name": "stdout",
     "output_type": "stream",
     "text": [
      "100%|█████████████████████████████████████| 6948/6948 [00:04<00:00, 1412.18it/s]\r\n",
      "100%|███████████████████████████████████████| 348/348 [1:47:57<00:00, 18.61s/it]\r\n"
     ]
    }
   ],
   "source": [
    "!python ./text-detoxification/t5-inference.py \\\n",
    "    --model-name cointegrated/rut5-base-paraphraser \\\n",
    "    --model-path ../input/detox-full-train-cointegrated-rut5-base-para-02/model-20.dump \\\n",
    "    --max-length 180 \\\n",
    "    --toxic-path {os.environ.get('TRAIN_PATH')} \\\n",
    "    --detoxic-path ./answer-coin-train-20.txt"
   ]
  },
  {
   "cell_type": "code",
   "execution_count": 8,
   "id": "9f9fbd71",
   "metadata": {
    "execution": {
     "iopub.execute_input": "2022-05-14T02:40:18.115922Z",
     "iopub.status.busy": "2022-05-14T02:40:18.115433Z",
     "iopub.status.idle": "2022-05-14T02:40:18.884900Z",
     "shell.execute_reply": "2022-05-14T02:40:18.883531Z"
    },
    "papermill": {
     "duration": 1.365472,
     "end_time": "2022-05-14T02:40:18.887506",
     "exception": false,
     "start_time": "2022-05-14T02:40:17.522034",
     "status": "completed"
    },
    "tags": []
   },
   "outputs": [],
   "source": [
    "!rm -r ./text-detoxification"
   ]
  }
 ],
 "metadata": {
  "kernelspec": {
   "display_name": "Python 3",
   "language": "python",
   "name": "python3"
  },
  "language_info": {
   "codemirror_mode": {
    "name": "ipython",
    "version": 3
   },
   "file_extension": ".py",
   "mimetype": "text/x-python",
   "name": "python",
   "nbconvert_exporter": "python",
   "pygments_lexer": "ipython3",
   "version": "3.7.12"
  },
  "papermill": {
   "default_parameters": {},
   "duration": 26408.198683,
   "end_time": "2022-05-14T02:40:20.260362",
   "environment_variables": {},
   "exception": null,
   "input_path": "__notebook__.ipynb",
   "output_path": "__notebook__.ipynb",
   "parameters": {},
   "start_time": "2022-05-13T19:20:12.061679",
   "version": "2.3.4"
  }
 },
 "nbformat": 4,
 "nbformat_minor": 5
}
