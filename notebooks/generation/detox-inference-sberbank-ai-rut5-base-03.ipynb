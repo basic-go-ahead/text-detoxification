{
 "cells": [
  {
   "cell_type": "code",
   "execution_count": 1,
   "id": "b866017d",
   "metadata": {
    "_cell_guid": "b1076dfc-b9ad-4769-8c92-a6c4dae69d19",
    "_uuid": "8f2839f25d086af736a60e9eeb907d3b93b6e0e5",
    "execution": {
     "iopub.execute_input": "2022-05-22T21:10:39.224777Z",
     "iopub.status.busy": "2022-05-22T21:10:39.224452Z",
     "iopub.status.idle": "2022-05-22T21:10:39.244871Z",
     "shell.execute_reply": "2022-05-22T21:10:39.243726Z"
    },
    "papermill": {
     "duration": 0.036057,
     "end_time": "2022-05-22T21:10:39.247232",
     "exception": false,
     "start_time": "2022-05-22T21:10:39.211175",
     "status": "completed"
    },
    "tags": []
   },
   "outputs": [],
   "source": [
    "import os\n",
    "from dotenv import load_dotenv"
   ]
  },
  {
   "cell_type": "code",
   "execution_count": 2,
   "id": "7c639f04",
   "metadata": {
    "execution": {
     "iopub.execute_input": "2022-05-22T21:10:39.269548Z",
     "iopub.status.busy": "2022-05-22T21:10:39.269325Z",
     "iopub.status.idle": "2022-05-22T21:10:40.982081Z",
     "shell.execute_reply": "2022-05-22T21:10:40.981330Z"
    },
    "papermill": {
     "duration": 1.726499,
     "end_time": "2022-05-22T21:10:40.984381",
     "exception": false,
     "start_time": "2022-05-22T21:10:39.257882",
     "status": "completed"
    },
    "tags": []
   },
   "outputs": [
    {
     "name": "stdout",
     "output_type": "stream",
     "text": [
      "Cloning into 'text-detoxification'...\r\n",
      "remote: Enumerating objects: 145, done.\u001b[K\r\n",
      "remote: Counting objects: 100% (145/145), done.\u001b[K\r\n",
      "remote: Compressing objects: 100% (104/104), done.\u001b[K\r\n",
      "remote: Total 145 (delta 81), reused 99 (delta 38), pack-reused 0\u001b[K\r\n",
      "Receiving objects: 100% (145/145), 523.06 KiB | 1.55 MiB/s, done.\r\n",
      "Resolving deltas: 100% (81/81), done.\r\n"
     ]
    }
   ],
   "source": [
    "!git clone https://github.com/basic-go-ahead/text-detoxification.git"
   ]
  },
  {
   "cell_type": "code",
   "execution_count": 3,
   "id": "540dc9f5",
   "metadata": {
    "execution": {
     "iopub.execute_input": "2022-05-22T21:10:41.013063Z",
     "iopub.status.busy": "2022-05-22T21:10:41.012688Z",
     "iopub.status.idle": "2022-05-22T21:10:41.019924Z",
     "shell.execute_reply": "2022-05-22T21:10:41.019311Z"
    },
    "papermill": {
     "duration": 0.024667,
     "end_time": "2022-05-22T21:10:41.022854",
     "exception": false,
     "start_time": "2022-05-22T21:10:40.998187",
     "status": "completed"
    },
    "tags": []
   },
   "outputs": [
    {
     "data": {
      "text/plain": [
       "True"
      ]
     },
     "execution_count": 3,
     "metadata": {},
     "output_type": "execute_result"
    }
   ],
   "source": [
    "load_dotenv('./text-detoxification/pipeline.env')"
   ]
  },
  {
   "cell_type": "code",
   "execution_count": 4,
   "id": "5c941427",
   "metadata": {
    "execution": {
     "iopub.execute_input": "2022-05-22T21:10:41.052174Z",
     "iopub.status.busy": "2022-05-22T21:10:41.051856Z",
     "iopub.status.idle": "2022-05-22T21:26:24.402026Z",
     "shell.execute_reply": "2022-05-22T21:26:24.401128Z"
    },
    "papermill": {
     "duration": 943.367855,
     "end_time": "2022-05-22T21:26:24.404705",
     "exception": false,
     "start_time": "2022-05-22T21:10:41.036850",
     "status": "completed"
    },
    "tags": []
   },
   "outputs": [
    {
     "name": "stdout",
     "output_type": "stream",
     "text": [
      "Downloading: 100%|███████████████████████████| 980k/980k [00:00<00:00, 34.5MB/s]\r\n",
      "Downloading: 100%|█████████████████████████| 1.37k/1.37k [00:00<00:00, 1.30MB/s]\r\n",
      "100%|███████████████████████████████████████| 800/800 [00:00<00:00, 3233.15it/s]\r\n",
      "100%|███████████████████████████████████████████| 40/40 [15:21<00:00, 23.05s/it]\r\n",
      "  adding: answer.txt (deflated 67%)\r\n"
     ]
    }
   ],
   "source": [
    "!python ./text-detoxification/t5-inference.py \\\n",
    "    --model-name sberbank-ai/ruT5-base \\\n",
    "    --model-path ../input/detox-full-train-sberbank-ai-rut5-base-03/model-05.dump \\\n",
    "    --max-length 110 \\\n",
    "    --toxic-path {os.environ.get('TEST_PATH')} \\\n",
    "    --detoxic-path ./answer-full-sber-05.txt\n",
    "\n",
    "!cp ./answer-full-sber-05.txt ./answer.txt\n",
    "!zip ./submission-full-sber-05.zip ./answer.txt\n",
    "!rm -f ./answer.txt"
   ]
  },
  {
   "cell_type": "code",
   "execution_count": 5,
   "id": "c5770c35",
   "metadata": {
    "execution": {
     "iopub.execute_input": "2022-05-22T21:26:24.481852Z",
     "iopub.status.busy": "2022-05-22T21:26:24.480053Z",
     "iopub.status.idle": "2022-05-22T21:42:19.637524Z",
     "shell.execute_reply": "2022-05-22T21:42:19.636573Z"
    },
    "papermill": {
     "duration": 955.198773,
     "end_time": "2022-05-22T21:42:19.640120",
     "exception": false,
     "start_time": "2022-05-22T21:26:24.441347",
     "status": "completed"
    },
    "tags": []
   },
   "outputs": [
    {
     "name": "stdout",
     "output_type": "stream",
     "text": [
      "100%|███████████████████████████████████████| 800/800 [00:00<00:00, 3763.61it/s]\r\n",
      "100%|███████████████████████████████████████████| 40/40 [15:36<00:00, 23.42s/it]\r\n",
      "  adding: answer.txt (deflated 67%)\r\n"
     ]
    }
   ],
   "source": [
    "!python ./text-detoxification/t5-inference.py \\\n",
    "    --model-name sberbank-ai/ruT5-base \\\n",
    "    --model-path ../input/detox-full-train-sberbank-ai-rut5-base-03/model-10.dump \\\n",
    "    --max-length 110 \\\n",
    "    --toxic-path {os.environ.get('TEST_PATH')} \\\n",
    "    --detoxic-path ./answer-full-sber-10.txt\n",
    "\n",
    "!cp ./answer-full-sber-10.txt ./answer.txt\n",
    "!zip ./submission-full-sber-10.zip ./answer.txt\n",
    "!rm -f ./answer.txt"
   ]
  },
  {
   "cell_type": "code",
   "execution_count": 6,
   "id": "1ce32b8e",
   "metadata": {
    "execution": {
     "iopub.execute_input": "2022-05-22T21:42:19.756782Z",
     "iopub.status.busy": "2022-05-22T21:42:19.756492Z",
     "iopub.status.idle": "2022-05-22T21:57:54.768853Z",
     "shell.execute_reply": "2022-05-22T21:57:54.766538Z"
    },
    "papermill": {
     "duration": 935.074749,
     "end_time": "2022-05-22T21:57:54.772079",
     "exception": false,
     "start_time": "2022-05-22T21:42:19.697330",
     "status": "completed"
    },
    "tags": []
   },
   "outputs": [
    {
     "name": "stdout",
     "output_type": "stream",
     "text": [
      "100%|███████████████████████████████████████| 800/800 [00:00<00:00, 2447.37it/s]\r\n",
      "100%|███████████████████████████████████████████| 40/40 [15:19<00:00, 22.99s/it]\r\n",
      "  adding: answer.txt (deflated 67%)\r\n"
     ]
    }
   ],
   "source": [
    "!python ./text-detoxification/t5-inference.py \\\n",
    "    --model-name sberbank-ai/ruT5-base \\\n",
    "    --model-path ../input/detox-full-train-sberbank-ai-rut5-base-03/model-15.dump \\\n",
    "    --max-length 110 \\\n",
    "    --toxic-path {os.environ.get('TEST_PATH')} \\\n",
    "    --detoxic-path ./answer-full-sber-15.txt\n",
    "\n",
    "!cp ./answer-full-sber-15.txt ./answer.txt\n",
    "!zip ./submission-full-sber-15.zip ./answer.txt\n",
    "!rm -f ./answer.txt"
   ]
  },
  {
   "cell_type": "code",
   "execution_count": 7,
   "id": "418d3c67",
   "metadata": {
    "execution": {
     "iopub.execute_input": "2022-05-22T21:57:54.947564Z",
     "iopub.status.busy": "2022-05-22T21:57:54.947100Z",
     "iopub.status.idle": "2022-05-22T22:13:45.136686Z",
     "shell.execute_reply": "2022-05-22T22:13:45.135981Z"
    },
    "papermill": {
     "duration": 950.276646,
     "end_time": "2022-05-22T22:13:45.139092",
     "exception": false,
     "start_time": "2022-05-22T21:57:54.862446",
     "status": "completed"
    },
    "tags": []
   },
   "outputs": [
    {
     "name": "stdout",
     "output_type": "stream",
     "text": [
      "100%|███████████████████████████████████████| 800/800 [00:00<00:00, 2470.91it/s]\r\n",
      "100%|███████████████████████████████████████████| 40/40 [15:33<00:00, 23.35s/it]\r\n",
      "  adding: answer.txt (deflated 68%)\r\n"
     ]
    }
   ],
   "source": [
    "!python ./text-detoxification/t5-inference.py \\\n",
    "    --model-name sberbank-ai/ruT5-base \\\n",
    "    --model-path ../input/detox-full-train-sberbank-ai-rut5-base-03/model-20.dump \\\n",
    "    --max-length 110 \\\n",
    "    --toxic-path {os.environ.get('TEST_PATH')} \\\n",
    "    --detoxic-path ./answer-full-sber-20.txt\n",
    "\n",
    "!cp ./answer-full-sber-20.txt ./answer.txt\n",
    "!zip ./submission-full-sber-20.zip ./answer.txt\n",
    "!rm -f ./answer.txt"
   ]
  },
  {
   "cell_type": "code",
   "execution_count": 8,
   "id": "54bbf3cd",
   "metadata": {
    "execution": {
     "iopub.execute_input": "2022-05-22T22:13:45.342277Z",
     "iopub.status.busy": "2022-05-22T22:13:45.341123Z",
     "iopub.status.idle": "2022-05-22T22:13:45.628080Z",
     "shell.execute_reply": "2022-05-22T22:13:45.626928Z"
    },
    "papermill": {
     "duration": 0.39011,
     "end_time": "2022-05-22T22:13:45.630494",
     "exception": false,
     "start_time": "2022-05-22T22:13:45.240384",
     "status": "completed"
    },
    "tags": []
   },
   "outputs": [],
   "source": [
    "!rm -r ./text-detoxification"
   ]
  }
 ],
 "metadata": {
  "kernelspec": {
   "display_name": "Python 3",
   "language": "python",
   "name": "python3"
  },
  "language_info": {
   "codemirror_mode": {
    "name": "ipython",
    "version": 3
   },
   "file_extension": ".py",
   "mimetype": "text/x-python",
   "name": "python",
   "nbconvert_exporter": "python",
   "pygments_lexer": "ipython3",
   "version": "3.7.12"
  },
  "papermill": {
   "default_parameters": {},
   "duration": 3795.510678,
   "end_time": "2022-05-22T22:13:46.460828",
   "environment_variables": {},
   "exception": null,
   "input_path": "__notebook__.ipynb",
   "output_path": "__notebook__.ipynb",
   "parameters": {},
   "start_time": "2022-05-22T21:10:30.950150",
   "version": "2.3.4"
  }
 },
 "nbformat": 4,
 "nbformat_minor": 5
}
