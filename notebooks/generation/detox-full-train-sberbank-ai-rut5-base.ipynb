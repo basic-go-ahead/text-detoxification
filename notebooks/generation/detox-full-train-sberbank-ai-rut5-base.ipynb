{
 "cells": [
  {
   "cell_type": "code",
   "execution_count": 1,
   "id": "472387ec",
   "metadata": {
    "_cell_guid": "b1076dfc-b9ad-4769-8c92-a6c4dae69d19",
    "_uuid": "8f2839f25d086af736a60e9eeb907d3b93b6e0e5",
    "execution": {
     "iopub.execute_input": "2022-05-11T12:57:33.800825Z",
     "iopub.status.busy": "2022-05-11T12:57:33.800359Z",
     "iopub.status.idle": "2022-05-11T12:57:33.819670Z",
     "shell.execute_reply": "2022-05-11T12:57:33.818765Z"
    },
    "papermill": {
     "duration": 0.030877,
     "end_time": "2022-05-11T12:57:33.821924",
     "exception": false,
     "start_time": "2022-05-11T12:57:33.791047",
     "status": "completed"
    },
    "tags": []
   },
   "outputs": [],
   "source": [
    "import os, sys\n",
    "from dotenv import load_dotenv"
   ]
  },
  {
   "cell_type": "code",
   "execution_count": 2,
   "id": "5109ad6d",
   "metadata": {
    "execution": {
     "iopub.execute_input": "2022-05-11T12:57:33.835685Z",
     "iopub.status.busy": "2022-05-11T12:57:33.835448Z",
     "iopub.status.idle": "2022-05-11T12:57:36.129973Z",
     "shell.execute_reply": "2022-05-11T12:57:36.129032Z"
    },
    "papermill": {
     "duration": 2.303913,
     "end_time": "2022-05-11T12:57:36.132450",
     "exception": false,
     "start_time": "2022-05-11T12:57:33.828537",
     "status": "completed"
    },
    "tags": []
   },
   "outputs": [
    {
     "name": "stdout",
     "output_type": "stream",
     "text": [
      "Cloning into 'text-detoxification'...\r\n",
      "remote: Enumerating objects: 53, done.\u001b[K\r\n",
      "remote: Counting objects: 100% (53/53), done.\u001b[K\r\n",
      "remote: Compressing objects: 100% (40/40), done.\u001b[K\r\n",
      "remote: Total 53 (delta 26), reused 35 (delta 11), pack-reused 0\u001b[K\r\n",
      "Unpacking objects: 100% (53/53), 9.08 KiB | 51.00 KiB/s, done.\r\n"
     ]
    }
   ],
   "source": [
    "!git clone https://github.com/basic-go-ahead/text-detoxification.git\n",
    "\n",
    "sys.path.append('./text-detoxification')"
   ]
  },
  {
   "cell_type": "code",
   "execution_count": 3,
   "id": "d1b32430",
   "metadata": {
    "execution": {
     "iopub.execute_input": "2022-05-11T12:57:36.149407Z",
     "iopub.status.busy": "2022-05-11T12:57:36.149026Z",
     "iopub.status.idle": "2022-05-11T12:57:36.158621Z",
     "shell.execute_reply": "2022-05-11T12:57:36.157842Z"
    },
    "papermill": {
     "duration": 0.020967,
     "end_time": "2022-05-11T12:57:36.161344",
     "exception": false,
     "start_time": "2022-05-11T12:57:36.140377",
     "status": "completed"
    },
    "tags": []
   },
   "outputs": [
    {
     "data": {
      "text/plain": [
       "True"
      ]
     },
     "execution_count": 3,
     "metadata": {},
     "output_type": "execute_result"
    }
   ],
   "source": [
    "load_dotenv('./text-detoxification/pipeline.env')"
   ]
  },
  {
   "cell_type": "code",
   "execution_count": 4,
   "id": "acea0d2c",
   "metadata": {
    "execution": {
     "iopub.execute_input": "2022-05-11T12:57:36.178556Z",
     "iopub.status.busy": "2022-05-11T12:57:36.177951Z",
     "iopub.status.idle": "2022-05-11T14:56:51.322584Z",
     "shell.execute_reply": "2022-05-11T14:56:51.321756Z"
    },
    "papermill": {
     "duration": 7155.156765,
     "end_time": "2022-05-11T14:56:51.326089",
     "exception": false,
     "start_time": "2022-05-11T12:57:36.169324",
     "status": "completed"
    },
    "tags": []
   },
   "outputs": [
    {
     "name": "stdout",
     "output_type": "stream",
     "text": [
      "Downloading: 100%|████████████████████████████| 980k/980k [00:01<00:00, 733kB/s]\r\n",
      "Downloading: 100%|█████████████████████████| 1.37k/1.37k [00:00<00:00, 1.05MB/s]\r\n",
      "100%|███████████████████████████████████| 10883/10883 [00:08<00:00, 1299.97it/s]\r\n",
      "Downloading: 100%|███████████████████████████| 850M/850M [01:20<00:00, 11.0MB/s]\r\n",
      "Epoch 001: mean_train_loss = 3.36774: 100%|█| 1089/1089 [05:52<00:00,  3.09it/s]\r\n",
      "Epoch 002: mean_train_loss = 2.09462: 100%|█| 1089/1089 [05:50<00:00,  3.10it/s]\r\n",
      "Epoch 003: mean_train_loss = 1.82593: 100%|█| 1089/1089 [05:51<00:00,  3.10it/s]\r\n",
      "Epoch 004: mean_train_loss = 1.67053: 100%|█| 1089/1089 [05:51<00:00,  3.09it/s]\r\n",
      "Epoch 005: mean_train_loss = 1.55167: 100%|█| 1089/1089 [05:50<00:00,  3.10it/s]\r\n",
      "Epoch 006: mean_train_loss = 1.45931: 100%|█| 1089/1089 [05:51<00:00,  3.10it/s]\r\n",
      "Epoch 007: mean_train_loss = 1.38211: 100%|█| 1089/1089 [05:51<00:00,  3.10it/s]\r\n",
      "Epoch 008: mean_train_loss = 1.32468: 100%|█| 1089/1089 [05:50<00:00,  3.10it/s]\r\n",
      "Epoch 009: mean_train_loss = 1.25929: 100%|█| 1089/1089 [05:52<00:00,  3.09it/s]\r\n",
      "Epoch 010: mean_train_loss = 1.20837: 100%|█| 1089/1089 [05:51<00:00,  3.10it/s]\r\n",
      "Epoch 011: mean_train_loss = 1.15886: 100%|█| 1089/1089 [05:50<00:00,  3.10it/s]\r\n",
      "Epoch 012: mean_train_loss = 1.11589: 100%|█| 1089/1089 [05:50<00:00,  3.11it/s]\r\n",
      "Epoch 013: mean_train_loss = 1.07972: 100%|█| 1089/1089 [05:50<00:00,  3.11it/s]\r\n",
      "Epoch 014: mean_train_loss = 1.04103: 100%|█| 1089/1089 [05:50<00:00,  3.11it/s]\r\n",
      "Epoch 015: mean_train_loss = 1.00798: 100%|█| 1089/1089 [05:51<00:00,  3.10it/s]\r\n",
      "Epoch 016: mean_train_loss = 0.97045: 100%|█| 1089/1089 [05:51<00:00,  3.10it/s]\r\n",
      "Epoch 017: mean_train_loss = 0.94093: 100%|█| 1089/1089 [05:50<00:00,  3.10it/s]\r\n",
      "Epoch 018: mean_train_loss = 0.91351: 100%|█| 1089/1089 [05:52<00:00,  3.09it/s]\r\n",
      "Epoch 019: mean_train_loss = 0.88473: 100%|█| 1089/1089 [05:53<00:00,  3.08it/s]\r\n",
      "Epoch 020: mean_train_loss = 0.85906: 100%|█| 1089/1089 [05:54<00:00,  3.07it/s]\r\n"
     ]
    }
   ],
   "source": [
    "!python ./text-detoxification/t5-full-training.py \\\n",
    "    --model-name sberbank-ai/ruT5-base \\\n",
    "    --max-length 110 \\\n",
    "    --train-path {os.environ.get('TRAIN_PATH')} \\\n",
    "    --epochs 20 \\\n",
    "    --save-model-when 12 15 20"
   ]
  },
  {
   "cell_type": "code",
   "execution_count": 5,
   "id": "57d89732",
   "metadata": {
    "execution": {
     "iopub.execute_input": "2022-05-11T14:57:08.204978Z",
     "iopub.status.busy": "2022-05-11T14:57:08.204535Z",
     "iopub.status.idle": "2022-05-11T14:57:09.114414Z",
     "shell.execute_reply": "2022-05-11T14:57:09.113183Z"
    },
    "papermill": {
     "duration": 9.356142,
     "end_time": "2022-05-11T14:57:09.118212",
     "exception": false,
     "start_time": "2022-05-11T14:56:59.762070",
     "status": "completed"
    },
    "tags": []
   },
   "outputs": [],
   "source": [
    "!rm -r ./text-detoxification"
   ]
  }
 ],
 "metadata": {
  "kernelspec": {
   "display_name": "Python 3",
   "language": "python",
   "name": "python3"
  },
  "language_info": {
   "codemirror_mode": {
    "name": "ipython",
    "version": 3
   },
   "file_extension": ".py",
   "mimetype": "text/x-python",
   "name": "python",
   "nbconvert_exporter": "python",
   "pygments_lexer": "ipython3",
   "version": "3.7.12"
  },
  "papermill": {
   "default_parameters": {},
   "duration": 7194.376585,
   "end_time": "2022-05-11T14:57:18.728815",
   "environment_variables": {},
   "exception": null,
   "input_path": "__notebook__.ipynb",
   "output_path": "__notebook__.ipynb",
   "parameters": {},
   "start_time": "2022-05-11T12:57:24.352230",
   "version": "2.3.4"
  }
 },
 "nbformat": 4,
 "nbformat_minor": 5
}
