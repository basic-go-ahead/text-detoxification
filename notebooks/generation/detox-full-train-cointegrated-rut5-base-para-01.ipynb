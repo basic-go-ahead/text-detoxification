{
 "cells": [
  {
   "cell_type": "code",
   "execution_count": 1,
   "id": "4897b37e",
   "metadata": {
    "_cell_guid": "b1076dfc-b9ad-4769-8c92-a6c4dae69d19",
    "_uuid": "8f2839f25d086af736a60e9eeb907d3b93b6e0e5",
    "execution": {
     "iopub.execute_input": "2022-05-12T12:48:02.614146Z",
     "iopub.status.busy": "2022-05-12T12:48:02.613163Z",
     "iopub.status.idle": "2022-05-12T12:48:02.631770Z",
     "shell.execute_reply": "2022-05-12T12:48:02.631065Z"
    },
    "papermill": {
     "duration": 0.028754,
     "end_time": "2022-05-12T12:48:02.633593",
     "exception": false,
     "start_time": "2022-05-12T12:48:02.604839",
     "status": "completed"
    },
    "tags": []
   },
   "outputs": [],
   "source": [
    "import os, sys\n",
    "from dotenv import load_dotenv"
   ]
  },
  {
   "cell_type": "code",
   "execution_count": 2,
   "id": "b0ea584a",
   "metadata": {
    "execution": {
     "iopub.execute_input": "2022-05-12T12:48:02.645699Z",
     "iopub.status.busy": "2022-05-12T12:48:02.645473Z",
     "iopub.status.idle": "2022-05-12T12:48:04.262385Z",
     "shell.execute_reply": "2022-05-12T12:48:04.261272Z"
    },
    "papermill": {
     "duration": 1.62594,
     "end_time": "2022-05-12T12:48:04.265142",
     "exception": false,
     "start_time": "2022-05-12T12:48:02.639202",
     "status": "completed"
    },
    "tags": []
   },
   "outputs": [
    {
     "name": "stdout",
     "output_type": "stream",
     "text": [
      "Cloning into 'text-detoxification'...\r\n",
      "remote: Enumerating objects: 56, done.\u001b[K\r\n",
      "remote: Counting objects: 100% (56/56), done.\u001b[K\r\n",
      "remote: Compressing objects: 100% (43/43), done.\u001b[K\r\n",
      "remote: Total 56 (delta 28), reused 36 (delta 11), pack-reused 0\u001b[K\r\n",
      "Unpacking objects: 100% (56/56), 9.32 KiB | 681.00 KiB/s, done.\r\n"
     ]
    }
   ],
   "source": [
    "!git clone https://github.com/basic-go-ahead/text-detoxification.git"
   ]
  },
  {
   "cell_type": "code",
   "execution_count": 3,
   "id": "275f2de4",
   "metadata": {
    "execution": {
     "iopub.execute_input": "2022-05-12T12:48:04.283239Z",
     "iopub.status.busy": "2022-05-12T12:48:04.282944Z",
     "iopub.status.idle": "2022-05-12T12:48:04.292313Z",
     "shell.execute_reply": "2022-05-12T12:48:04.291524Z"
    },
    "papermill": {
     "duration": 0.021408,
     "end_time": "2022-05-12T12:48:04.294959",
     "exception": false,
     "start_time": "2022-05-12T12:48:04.273551",
     "status": "completed"
    },
    "tags": []
   },
   "outputs": [
    {
     "data": {
      "text/plain": [
       "True"
      ]
     },
     "execution_count": 3,
     "metadata": {},
     "output_type": "execute_result"
    }
   ],
   "source": [
    "load_dotenv('./text-detoxification/pipeline.env')"
   ]
  },
  {
   "cell_type": "code",
   "execution_count": 4,
   "id": "1044db37",
   "metadata": {
    "execution": {
     "iopub.execute_input": "2022-05-12T12:48:04.310348Z",
     "iopub.status.busy": "2022-05-12T12:48:04.310084Z",
     "iopub.status.idle": "2022-05-12T16:05:40.413654Z",
     "shell.execute_reply": "2022-05-12T16:05:40.412764Z"
    },
    "papermill": {
     "duration": 11856.114064,
     "end_time": "2022-05-12T16:05:40.416061",
     "exception": false,
     "start_time": "2022-05-12T12:48:04.301997",
     "status": "completed"
    },
    "tags": []
   },
   "outputs": [
    {
     "name": "stdout",
     "output_type": "stream",
     "text": [
      "Downloading: 100%|███████████████████████████| 808k/808k [00:00<00:00, 24.4MB/s]\r\n",
      "Downloading: 100%|███████████████████████████| 65.0/65.0 [00:00<00:00, 53.7kB/s]\r\n",
      "Downloading: 100%|██████████████████████████████| 315/315 [00:00<00:00, 253kB/s]\r\n",
      "100%|███████████████████████████████████| 10883/10883 [00:06<00:00, 1616.54it/s]\r\n",
      "Downloading: 100%|██████████████████████████████| 724/724 [00:00<00:00, 442kB/s]\r\n",
      "Downloading: 100%|███████████████████████████| 932M/932M [00:20<00:00, 47.6MB/s]\r\n",
      "Epoch 001: mean_train_loss = 1.39130: 100%|█| 1089/1089 [09:50<00:00,  1.85it/s]\r\n",
      "Epoch 002: mean_train_loss = 1.21675: 100%|█| 1089/1089 [09:49<00:00,  1.85it/s]\r\n",
      "Epoch 003: mean_train_loss = 1.14988: 100%|█| 1089/1089 [09:49<00:00,  1.85it/s]\r\n",
      "Epoch 004: mean_train_loss = 1.10679: 100%|█| 1089/1089 [09:49<00:00,  1.85it/s]\r\n",
      "Epoch 005: mean_train_loss = 1.06858: 100%|█| 1089/1089 [09:49<00:00,  1.85it/s]\r\n",
      "Epoch 006: mean_train_loss = 1.03908: 100%|█| 1089/1089 [09:49<00:00,  1.85it/s]\r\n",
      "Epoch 007: mean_train_loss = 1.00794: 100%|█| 1089/1089 [09:49<00:00,  1.85it/s]\r\n",
      "Epoch 008: mean_train_loss = 0.98834: 100%|█| 1089/1089 [09:50<00:00,  1.84it/s]\r\n",
      "Epoch 009: mean_train_loss = 0.96483: 100%|█| 1089/1089 [09:50<00:00,  1.84it/s]\r\n",
      "Epoch 010: mean_train_loss = 0.94534: 100%|█| 1089/1089 [09:50<00:00,  1.84it/s]\r\n",
      "Epoch 011: mean_train_loss = 0.91953: 100%|█| 1089/1089 [09:50<00:00,  1.84it/s]\r\n",
      "Epoch 012: mean_train_loss = 0.90366: 100%|█| 1089/1089 [09:49<00:00,  1.85it/s]\r\n",
      "Epoch 013: mean_train_loss = 0.88535: 100%|█| 1089/1089 [09:50<00:00,  1.84it/s]\r\n",
      "Epoch 014: mean_train_loss = 0.86707: 100%|█| 1089/1089 [09:49<00:00,  1.85it/s]\r\n",
      "Epoch 015: mean_train_loss = 0.85420: 100%|█| 1089/1089 [09:50<00:00,  1.85it/s]\r\n",
      "Epoch 016: mean_train_loss = 0.83796: 100%|█| 1089/1089 [09:50<00:00,  1.84it/s]\r\n",
      "Epoch 017: mean_train_loss = 0.82654: 100%|█| 1089/1089 [09:49<00:00,  1.85it/s]\r\n",
      "Epoch 018: mean_train_loss = 0.81084: 100%|█| 1089/1089 [09:50<00:00,  1.84it/s]\r\n",
      "Epoch 019: mean_train_loss = 0.79489: 100%|█| 1089/1089 [09:50<00:00,  1.84it/s]\r\n",
      "Epoch 020: mean_train_loss = 0.78363: 100%|█| 1089/1089 [09:50<00:00,  1.84it/s]\r\n"
     ]
    }
   ],
   "source": [
    "!python ./text-detoxification/t5-full-training.py \\\n",
    "    --model-name cointegrated/rut5-base-paraphraser \\\n",
    "    --max-length 180 \\\n",
    "    --train-path {os.environ.get('TRAIN_PATH')} \\\n",
    "    --epochs 20 \\\n",
    "    --save-model-when 12 15 20"
   ]
  },
  {
   "cell_type": "code",
   "execution_count": 5,
   "id": "8eea0b20",
   "metadata": {
    "execution": {
     "iopub.execute_input": "2022-05-12T16:05:55.310176Z",
     "iopub.status.busy": "2022-05-12T16:05:55.309905Z",
     "iopub.status.idle": "2022-05-12T16:05:55.989363Z",
     "shell.execute_reply": "2022-05-12T16:05:55.988362Z"
    },
    "papermill": {
     "duration": 8.412849,
     "end_time": "2022-05-12T16:05:55.991663",
     "exception": false,
     "start_time": "2022-05-12T16:05:47.578814",
     "status": "completed"
    },
    "tags": []
   },
   "outputs": [],
   "source": [
    "!rm -r ./text-detoxification"
   ]
  }
 ],
 "metadata": {
  "kernelspec": {
   "display_name": "Python 3",
   "language": "python",
   "name": "python3"
  },
  "language_info": {
   "codemirror_mode": {
    "name": "ipython",
    "version": 3
   },
   "file_extension": ".py",
   "mimetype": "text/x-python",
   "name": "python",
   "nbconvert_exporter": "python",
   "pygments_lexer": "ipython3",
   "version": "3.7.12"
  },
  "papermill": {
   "default_parameters": {},
   "duration": 11889.186109,
   "end_time": "2022-05-12T16:06:03.756798",
   "environment_variables": {},
   "exception": null,
   "input_path": "__notebook__.ipynb",
   "output_path": "__notebook__.ipynb",
   "parameters": {},
   "start_time": "2022-05-12T12:47:54.570689",
   "version": "2.3.4"
  }
 },
 "nbformat": 4,
 "nbformat_minor": 5
}
