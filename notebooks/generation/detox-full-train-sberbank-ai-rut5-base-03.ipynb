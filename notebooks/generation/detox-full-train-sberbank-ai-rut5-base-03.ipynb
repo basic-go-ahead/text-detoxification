{
 "cells": [
  {
   "cell_type": "code",
   "execution_count": 1,
   "id": "aa29eb6e",
   "metadata": {
    "_cell_guid": "b1076dfc-b9ad-4769-8c92-a6c4dae69d19",
    "_uuid": "8f2839f25d086af736a60e9eeb907d3b93b6e0e5",
    "execution": {
     "iopub.execute_input": "2022-05-13T15:17:07.273105Z",
     "iopub.status.busy": "2022-05-13T15:17:07.272256Z",
     "iopub.status.idle": "2022-05-13T15:17:07.290736Z",
     "shell.execute_reply": "2022-05-13T15:17:07.290077Z"
    },
    "papermill": {
     "duration": 0.028103,
     "end_time": "2022-05-13T15:17:07.292685",
     "exception": false,
     "start_time": "2022-05-13T15:17:07.264582",
     "status": "completed"
    },
    "tags": []
   },
   "outputs": [],
   "source": [
    "import os, sys\n",
    "from dotenv import load_dotenv"
   ]
  },
  {
   "cell_type": "code",
   "execution_count": 2,
   "id": "ca9f83bf",
   "metadata": {
    "execution": {
     "iopub.execute_input": "2022-05-13T15:17:07.304280Z",
     "iopub.status.busy": "2022-05-13T15:17:07.304089Z",
     "iopub.status.idle": "2022-05-13T15:17:08.810855Z",
     "shell.execute_reply": "2022-05-13T15:17:08.810059Z"
    },
    "papermill": {
     "duration": 1.515394,
     "end_time": "2022-05-13T15:17:08.813391",
     "exception": false,
     "start_time": "2022-05-13T15:17:07.297997",
     "status": "completed"
    },
    "tags": []
   },
   "outputs": [
    {
     "name": "stdout",
     "output_type": "stream",
     "text": [
      "Cloning into 'text-detoxification'...\r\n",
      "remote: Enumerating objects: 56, done.\u001b[K\r\n",
      "remote: Counting objects: 100% (56/56), done.\u001b[K\r\n",
      "remote: Compressing objects: 100% (43/43), done.\u001b[K\r\n",
      "remote: Total 56 (delta 28), reused 36 (delta 11), pack-reused 0\u001b[K\r\n",
      "Unpacking objects: 100% (56/56), 9.32 KiB | 353.00 KiB/s, done.\r\n"
     ]
    }
   ],
   "source": [
    "!git clone https://github.com/basic-go-ahead/text-detoxification.git"
   ]
  },
  {
   "cell_type": "code",
   "execution_count": 3,
   "id": "6465f742",
   "metadata": {
    "execution": {
     "iopub.execute_input": "2022-05-13T15:17:08.838107Z",
     "iopub.status.busy": "2022-05-13T15:17:08.837731Z",
     "iopub.status.idle": "2022-05-13T15:17:08.852545Z",
     "shell.execute_reply": "2022-05-13T15:17:08.851917Z"
    },
    "papermill": {
     "duration": 0.029563,
     "end_time": "2022-05-13T15:17:08.854807",
     "exception": false,
     "start_time": "2022-05-13T15:17:08.825244",
     "status": "completed"
    },
    "tags": []
   },
   "outputs": [
    {
     "data": {
      "text/plain": [
       "True"
      ]
     },
     "execution_count": 3,
     "metadata": {},
     "output_type": "execute_result"
    }
   ],
   "source": [
    "load_dotenv('./text-detoxification/pipeline.env')"
   ]
  },
  {
   "cell_type": "code",
   "execution_count": 4,
   "id": "dbcd243a",
   "metadata": {
    "execution": {
     "iopub.execute_input": "2022-05-13T15:17:08.879327Z",
     "iopub.status.busy": "2022-05-13T15:17:08.879013Z",
     "iopub.status.idle": "2022-05-13T17:14:03.008999Z",
     "shell.execute_reply": "2022-05-13T17:14:03.008199Z"
    },
    "papermill": {
     "duration": 7014.144606,
     "end_time": "2022-05-13T17:14:03.011039",
     "exception": false,
     "start_time": "2022-05-13T15:17:08.866433",
     "status": "completed"
    },
    "tags": []
   },
   "outputs": [
    {
     "name": "stdout",
     "output_type": "stream",
     "text": [
      "Downloading: 100%|███████████████████████████| 980k/980k [00:00<00:00, 1.52MB/s]\r\n",
      "Downloading: 100%|█████████████████████████| 1.37k/1.37k [00:00<00:00, 1.18MB/s]\r\n",
      "100%|███████████████████████████████████| 10883/10883 [00:06<00:00, 1733.24it/s]\r\n",
      "Epoch 001: mean_train_loss = 0.48845: 100%|█| 1089/1089 [05:48<00:00,  3.12it/s]\r\n",
      "Epoch 002: mean_train_loss = 0.47644: 100%|█| 1089/1089 [05:48<00:00,  3.12it/s]\r\n",
      "Epoch 003: mean_train_loss = 0.46462: 100%|█| 1089/1089 [05:48<00:00,  3.13it/s]\r\n",
      "Epoch 004: mean_train_loss = 0.44969: 100%|█| 1089/1089 [05:48<00:00,  3.13it/s]\r\n",
      "Epoch 005: mean_train_loss = 0.44383: 100%|█| 1089/1089 [05:48<00:00,  3.13it/s]\r\n",
      "Epoch 006: mean_train_loss = 0.43103: 100%|█| 1089/1089 [05:48<00:00,  3.13it/s]\r\n",
      "Epoch 007: mean_train_loss = 0.42438: 100%|█| 1089/1089 [05:48<00:00,  3.13it/s]\r\n",
      "Epoch 008: mean_train_loss = 0.41328: 100%|█| 1089/1089 [05:49<00:00,  3.12it/s]\r\n",
      "Epoch 009: mean_train_loss = 0.40229: 100%|█| 1089/1089 [05:48<00:00,  3.12it/s]\r\n",
      "Epoch 010: mean_train_loss = 0.39101: 100%|█| 1089/1089 [05:49<00:00,  3.12it/s]\r\n",
      "Epoch 011: mean_train_loss = 0.38306: 100%|█| 1089/1089 [05:49<00:00,  3.12it/s]\r\n",
      "Epoch 012: mean_train_loss = 0.37396: 100%|█| 1089/1089 [05:48<00:00,  3.12it/s]\r\n",
      "Epoch 013: mean_train_loss = 0.36815: 100%|█| 1089/1089 [05:49<00:00,  3.12it/s]\r\n",
      "Epoch 014: mean_train_loss = 0.36001: 100%|█| 1089/1089 [05:48<00:00,  3.13it/s]\r\n",
      "Epoch 015: mean_train_loss = 0.34870: 100%|█| 1089/1089 [05:48<00:00,  3.13it/s]\r\n",
      "Epoch 016: mean_train_loss = 0.34369: 100%|█| 1089/1089 [05:48<00:00,  3.12it/s]\r\n",
      "Epoch 017: mean_train_loss = 0.33672: 100%|█| 1089/1089 [05:48<00:00,  3.12it/s]\r\n",
      "Epoch 018: mean_train_loss = 0.33181: 100%|█| 1089/1089 [05:48<00:00,  3.12it/s]\r\n",
      "Epoch 019: mean_train_loss = 0.32416: 100%|█| 1089/1089 [05:49<00:00,  3.12it/s]\r\n",
      "Epoch 020: mean_train_loss = 0.31625: 100%|█| 1089/1089 [05:49<00:00,  3.11it/s]\r\n"
     ]
    }
   ],
   "source": [
    "!python ./text-detoxification/t5-full-training.py \\\n",
    "    --model-name sberbank-ai/ruT5-base \\\n",
    "    --model-path ../input/detox-full-train-sberbank-ai-rut5-base-02/model-20.dump \\\n",
    "    --max-length 110 \\\n",
    "    --train-path {os.environ.get('TRAIN_PATH')} \\\n",
    "    --epochs 20 \\\n",
    "    --save-model-when 5 10 15 20"
   ]
  },
  {
   "cell_type": "code",
   "execution_count": 5,
   "id": "d115cad1",
   "metadata": {
    "execution": {
     "iopub.execute_input": "2022-05-13T17:14:17.227485Z",
     "iopub.status.busy": "2022-05-13T17:14:17.227129Z",
     "iopub.status.idle": "2022-05-13T17:14:17.996219Z",
     "shell.execute_reply": "2022-05-13T17:14:17.995245Z"
    },
    "papermill": {
     "duration": 7.91841,
     "end_time": "2022-05-13T17:14:17.999589",
     "exception": false,
     "start_time": "2022-05-13T17:14:10.081179",
     "status": "completed"
    },
    "tags": []
   },
   "outputs": [],
   "source": [
    "!rm -r ./text-detoxification"
   ]
  }
 ],
 "metadata": {
  "kernelspec": {
   "display_name": "Python 3",
   "language": "python",
   "name": "python3"
  },
  "language_info": {
   "codemirror_mode": {
    "name": "ipython",
    "version": 3
   },
   "file_extension": ".py",
   "mimetype": "text/x-python",
   "name": "python",
   "nbconvert_exporter": "python",
   "pygments_lexer": "ipython3",
   "version": "3.7.12"
  },
  "papermill": {
   "default_parameters": {},
   "duration": 7047.058651,
   "end_time": "2022-05-13T17:14:25.959011",
   "environment_variables": {},
   "exception": null,
   "input_path": "__notebook__.ipynb",
   "output_path": "__notebook__.ipynb",
   "parameters": {},
   "start_time": "2022-05-13T15:16:58.900360",
   "version": "2.3.4"
  }
 },
 "nbformat": 4,
 "nbformat_minor": 5
}
