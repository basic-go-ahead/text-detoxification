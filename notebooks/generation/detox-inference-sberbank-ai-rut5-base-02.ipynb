{
 "cells": [
  {
   "cell_type": "code",
   "execution_count": 1,
   "id": "85c3332e",
   "metadata": {
    "_cell_guid": "b1076dfc-b9ad-4769-8c92-a6c4dae69d19",
    "_uuid": "8f2839f25d086af736a60e9eeb907d3b93b6e0e5",
    "execution": {
     "iopub.execute_input": "2022-05-22T21:06:46.887888Z",
     "iopub.status.busy": "2022-05-22T21:06:46.887168Z",
     "iopub.status.idle": "2022-05-22T21:06:46.905176Z",
     "shell.execute_reply": "2022-05-22T21:06:46.904215Z"
    },
    "papermill": {
     "duration": 0.029969,
     "end_time": "2022-05-22T21:06:46.907592",
     "exception": false,
     "start_time": "2022-05-22T21:06:46.877623",
     "status": "completed"
    },
    "tags": []
   },
   "outputs": [],
   "source": [
    "import os\n",
    "from dotenv import load_dotenv"
   ]
  },
  {
   "cell_type": "code",
   "execution_count": 2,
   "id": "8a5f6248",
   "metadata": {
    "execution": {
     "iopub.execute_input": "2022-05-22T21:06:46.923708Z",
     "iopub.status.busy": "2022-05-22T21:06:46.923427Z",
     "iopub.status.idle": "2022-05-22T21:06:48.391681Z",
     "shell.execute_reply": "2022-05-22T21:06:48.390685Z"
    },
    "papermill": {
     "duration": 1.479395,
     "end_time": "2022-05-22T21:06:48.394162",
     "exception": false,
     "start_time": "2022-05-22T21:06:46.914767",
     "status": "completed"
    },
    "tags": []
   },
   "outputs": [
    {
     "name": "stdout",
     "output_type": "stream",
     "text": [
      "Cloning into 'text-detoxification'...\r\n",
      "remote: Enumerating objects: 145, done.\u001b[K\r\n",
      "remote: Counting objects: 100% (145/145), done.\u001b[K\r\n",
      "remote: Compressing objects: 100% (104/104), done.\u001b[K\r\n",
      "remote: Total 145 (delta 81), reused 99 (delta 38), pack-reused 0\u001b[K\r\n",
      "Receiving objects: 100% (145/145), 523.06 KiB | 9.69 MiB/s, done.\r\n",
      "Resolving deltas: 100% (81/81), done.\r\n"
     ]
    }
   ],
   "source": [
    "!git clone https://github.com/basic-go-ahead/text-detoxification.git"
   ]
  },
  {
   "cell_type": "code",
   "execution_count": 3,
   "id": "6af59903",
   "metadata": {
    "execution": {
     "iopub.execute_input": "2022-05-22T21:06:48.414166Z",
     "iopub.status.busy": "2022-05-22T21:06:48.413844Z",
     "iopub.status.idle": "2022-05-22T21:06:48.424405Z",
     "shell.execute_reply": "2022-05-22T21:06:48.423403Z"
    },
    "papermill": {
     "duration": 0.02314,
     "end_time": "2022-05-22T21:06:48.426578",
     "exception": false,
     "start_time": "2022-05-22T21:06:48.403438",
     "status": "completed"
    },
    "tags": []
   },
   "outputs": [
    {
     "data": {
      "text/plain": [
       "True"
      ]
     },
     "execution_count": 3,
     "metadata": {},
     "output_type": "execute_result"
    }
   ],
   "source": [
    "load_dotenv('./text-detoxification/pipeline.env')"
   ]
  },
  {
   "cell_type": "code",
   "execution_count": 4,
   "id": "99c0284e",
   "metadata": {
    "execution": {
     "iopub.execute_input": "2022-05-22T21:06:48.447401Z",
     "iopub.status.busy": "2022-05-22T21:06:48.447082Z",
     "iopub.status.idle": "2022-05-22T21:14:07.962609Z",
     "shell.execute_reply": "2022-05-22T21:14:07.961299Z"
    },
    "papermill": {
     "duration": 439.528455,
     "end_time": "2022-05-22T21:14:07.965237",
     "exception": false,
     "start_time": "2022-05-22T21:06:48.436782",
     "status": "completed"
    },
    "tags": []
   },
   "outputs": [
    {
     "name": "stdout",
     "output_type": "stream",
     "text": [
      "Downloading: 100%|███████████████████████████| 980k/980k [00:00<00:00, 2.15MB/s]\r\n",
      "Downloading: 100%|█████████████████████████| 1.37k/1.37k [00:00<00:00, 1.02MB/s]\r\n",
      "100%|███████████████████████████████████████| 800/800 [00:00<00:00, 3459.62it/s]\r\n",
      "100%|███████████████████████████████████████████| 40/40 [06:52<00:00, 10.31s/it]\r\n",
      "  adding: answer.txt (deflated 67%)\r\n"
     ]
    }
   ],
   "source": [
    "!python ./text-detoxification/t5-inference.py \\\n",
    "    --model-name sberbank-ai/ruT5-base \\\n",
    "    --model-path ../input/detox-full-train-sberbank-ai-rut5-base-02/model-05.dump \\\n",
    "    --max-length 110 \\\n",
    "    --toxic-path {os.environ.get('TEST_PATH')} \\\n",
    "    --detoxic-path ./answer.txt\n",
    "\n",
    "!zip ./submission-full-sber-05.zip ./answer.txt\n",
    "!rm -f ./answer.txt"
   ]
  },
  {
   "cell_type": "code",
   "execution_count": 5,
   "id": "4148258b",
   "metadata": {
    "execution": {
     "iopub.execute_input": "2022-05-22T21:14:08.013003Z",
     "iopub.status.busy": "2022-05-22T21:14:08.012662Z",
     "iopub.status.idle": "2022-05-22T21:21:29.648801Z",
     "shell.execute_reply": "2022-05-22T21:21:29.647480Z"
    },
    "papermill": {
     "duration": 441.663108,
     "end_time": "2022-05-22T21:21:29.651294",
     "exception": false,
     "start_time": "2022-05-22T21:14:07.988186",
     "status": "completed"
    },
    "tags": []
   },
   "outputs": [
    {
     "name": "stdout",
     "output_type": "stream",
     "text": [
      "100%|███████████████████████████████████████| 800/800 [00:00<00:00, 3387.33it/s]\r\n",
      "100%|███████████████████████████████████████████| 40/40 [07:02<00:00, 10.57s/it]\r\n",
      "  adding: answer.txt (deflated 67%)\r\n"
     ]
    }
   ],
   "source": [
    "!python ./text-detoxification/t5-inference.py \\\n",
    "    --model-name sberbank-ai/ruT5-base \\\n",
    "    --model-path ../input/detox-full-train-sberbank-ai-rut5-base-02/model-10.dump \\\n",
    "    --max-length 110 \\\n",
    "    --toxic-path {os.environ.get('TEST_PATH')} \\\n",
    "    --detoxic-path ./answer.txt\n",
    "\n",
    "!zip ./submission-full-sber-10.zip ./answer.txt\n",
    "!rm -f ./answer.txt"
   ]
  },
  {
   "cell_type": "code",
   "execution_count": 6,
   "id": "9580cca1",
   "metadata": {
    "execution": {
     "iopub.execute_input": "2022-05-22T21:21:29.722449Z",
     "iopub.status.busy": "2022-05-22T21:21:29.722116Z",
     "iopub.status.idle": "2022-05-22T21:28:48.417865Z",
     "shell.execute_reply": "2022-05-22T21:28:48.416588Z"
    },
    "papermill": {
     "duration": 438.734476,
     "end_time": "2022-05-22T21:28:48.420591",
     "exception": false,
     "start_time": "2022-05-22T21:21:29.686115",
     "status": "completed"
    },
    "tags": []
   },
   "outputs": [
    {
     "name": "stdout",
     "output_type": "stream",
     "text": [
      "100%|███████████████████████████████████████| 800/800 [00:00<00:00, 3406.07it/s]\r\n",
      "100%|███████████████████████████████████████████| 40/40 [06:59<00:00, 10.48s/it]\r\n",
      "  adding: answer.txt (deflated 67%)\r\n"
     ]
    }
   ],
   "source": [
    "!python ./text-detoxification/t5-inference.py \\\n",
    "    --model-name sberbank-ai/ruT5-base \\\n",
    "    --model-path ../input/detox-full-train-sberbank-ai-rut5-base-02/model-15.dump \\\n",
    "    --max-length 110 \\\n",
    "    --toxic-path {os.environ.get('TEST_PATH')} \\\n",
    "    --detoxic-path ./answer.txt\n",
    "\n",
    "!zip ./submission-full-sber-15.zip ./answer.txt\n",
    "!rm -f ./answer.txt"
   ]
  },
  {
   "cell_type": "code",
   "execution_count": 7,
   "id": "a4fa07b6",
   "metadata": {
    "execution": {
     "iopub.execute_input": "2022-05-22T21:28:48.519817Z",
     "iopub.status.busy": "2022-05-22T21:28:48.519268Z",
     "iopub.status.idle": "2022-05-22T21:36:22.707492Z",
     "shell.execute_reply": "2022-05-22T21:36:22.705596Z"
    },
    "papermill": {
     "duration": 454.243643,
     "end_time": "2022-05-22T21:36:22.712454",
     "exception": false,
     "start_time": "2022-05-22T21:28:48.468811",
     "status": "completed"
    },
    "tags": []
   },
   "outputs": [
    {
     "name": "stdout",
     "output_type": "stream",
     "text": [
      "100%|███████████████████████████████████████| 800/800 [00:00<00:00, 3319.60it/s]\r\n",
      "100%|███████████████████████████████████████████| 40/40 [07:13<00:00, 10.83s/it]\r\n",
      "  adding: answer.txt (deflated 67%)\r\n"
     ]
    }
   ],
   "source": [
    "!python ./text-detoxification/t5-inference.py \\\n",
    "    --model-name sberbank-ai/ruT5-base \\\n",
    "    --model-path ../input/detox-full-train-sberbank-ai-rut5-base-02/model-20.dump \\\n",
    "    --max-length 110 \\\n",
    "    --toxic-path {os.environ.get('TEST_PATH')} \\\n",
    "    --detoxic-path ./answer.txt\n",
    "\n",
    "!zip ./submission-full-sber-20.zip ./answer.txt\n",
    "!rm -f ./answer.txt"
   ]
  },
  {
   "cell_type": "code",
   "execution_count": 8,
   "id": "190954fb",
   "metadata": {
    "execution": {
     "iopub.execute_input": "2022-05-22T21:36:22.841416Z",
     "iopub.status.busy": "2022-05-22T21:36:22.840745Z",
     "iopub.status.idle": "2022-05-22T21:36:23.650034Z",
     "shell.execute_reply": "2022-05-22T21:36:23.648821Z"
    },
    "papermill": {
     "duration": 0.877374,
     "end_time": "2022-05-22T21:36:23.652609",
     "exception": false,
     "start_time": "2022-05-22T21:36:22.775235",
     "status": "completed"
    },
    "tags": []
   },
   "outputs": [],
   "source": [
    "!rm -r ./text-detoxification"
   ]
  }
 ],
 "metadata": {
  "kernelspec": {
   "display_name": "Python 3",
   "language": "python",
   "name": "python3"
  },
  "language_info": {
   "codemirror_mode": {
    "name": "ipython",
    "version": 3
   },
   "file_extension": ".py",
   "mimetype": "text/x-python",
   "name": "python",
   "nbconvert_exporter": "python",
   "pygments_lexer": "ipython3",
   "version": "3.7.12"
  },
  "papermill": {
   "default_parameters": {},
   "duration": 1787.213153,
   "end_time": "2022-05-22T21:36:24.549109",
   "environment_variables": {},
   "exception": null,
   "input_path": "__notebook__.ipynb",
   "output_path": "__notebook__.ipynb",
   "parameters": {},
   "start_time": "2022-05-22T21:06:37.335956",
   "version": "2.3.4"
  }
 },
 "nbformat": 4,
 "nbformat_minor": 5
}
