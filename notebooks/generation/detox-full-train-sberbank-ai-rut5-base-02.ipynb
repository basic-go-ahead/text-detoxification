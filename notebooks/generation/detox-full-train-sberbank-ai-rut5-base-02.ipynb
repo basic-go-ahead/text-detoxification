{
 "cells": [
  {
   "cell_type": "code",
   "execution_count": 1,
   "id": "352caad8",
   "metadata": {
    "_cell_guid": "b1076dfc-b9ad-4769-8c92-a6c4dae69d19",
    "_uuid": "8f2839f25d086af736a60e9eeb907d3b93b6e0e5",
    "execution": {
     "iopub.execute_input": "2022-05-11T16:56:49.384567Z",
     "iopub.status.busy": "2022-05-11T16:56:49.384067Z",
     "iopub.status.idle": "2022-05-11T16:56:49.400658Z",
     "shell.execute_reply": "2022-05-11T16:56:49.400056Z"
    },
    "papermill": {
     "duration": 0.025731,
     "end_time": "2022-05-11T16:56:49.402358",
     "exception": false,
     "start_time": "2022-05-11T16:56:49.376627",
     "status": "completed"
    },
    "tags": []
   },
   "outputs": [],
   "source": [
    "import os, sys\n",
    "from dotenv import load_dotenv"
   ]
  },
  {
   "cell_type": "code",
   "execution_count": 2,
   "id": "e171857c",
   "metadata": {
    "execution": {
     "iopub.execute_input": "2022-05-11T16:56:49.413520Z",
     "iopub.status.busy": "2022-05-11T16:56:49.413332Z",
     "iopub.status.idle": "2022-05-11T16:56:50.990025Z",
     "shell.execute_reply": "2022-05-11T16:56:50.989258Z"
    },
    "papermill": {
     "duration": 1.584331,
     "end_time": "2022-05-11T16:56:50.991919",
     "exception": false,
     "start_time": "2022-05-11T16:56:49.407588",
     "status": "completed"
    },
    "tags": []
   },
   "outputs": [
    {
     "name": "stdout",
     "output_type": "stream",
     "text": [
      "Cloning into 'text-detoxification'...\r\n",
      "remote: Enumerating objects: 53, done.\u001b[K\r\n",
      "remote: Counting objects: 100% (53/53), done.\u001b[K\r\n",
      "remote: Compressing objects: 100% (40/40), done.\u001b[K\r\n",
      "remote: Total 53 (delta 26), reused 35 (delta 11), pack-reused 0\u001b[K\r\n",
      "Unpacking objects: 100% (53/53), 9.08 KiB | 110.00 KiB/s, done.\r\n"
     ]
    }
   ],
   "source": [
    "!git clone https://github.com/basic-go-ahead/text-detoxification.git"
   ]
  },
  {
   "cell_type": "code",
   "execution_count": 3,
   "id": "b3fe10ca",
   "metadata": {
    "execution": {
     "iopub.execute_input": "2022-05-11T16:56:51.007818Z",
     "iopub.status.busy": "2022-05-11T16:56:51.007329Z",
     "iopub.status.idle": "2022-05-11T16:56:51.016420Z",
     "shell.execute_reply": "2022-05-11T16:56:51.015691Z"
    },
    "papermill": {
     "duration": 0.018672,
     "end_time": "2022-05-11T16:56:51.018179",
     "exception": false,
     "start_time": "2022-05-11T16:56:50.999507",
     "status": "completed"
    },
    "tags": []
   },
   "outputs": [
    {
     "data": {
      "text/plain": [
       "True"
      ]
     },
     "execution_count": 3,
     "metadata": {},
     "output_type": "execute_result"
    }
   ],
   "source": [
    "load_dotenv('./text-detoxification/pipeline.env')"
   ]
  },
  {
   "cell_type": "code",
   "execution_count": 4,
   "id": "231c2891",
   "metadata": {
    "execution": {
     "iopub.execute_input": "2022-05-11T16:56:51.034168Z",
     "iopub.status.busy": "2022-05-11T16:56:51.033648Z",
     "iopub.status.idle": "2022-05-11T18:53:52.636008Z",
     "shell.execute_reply": "2022-05-11T18:53:52.635184Z"
    },
    "papermill": {
     "duration": 7021.612641,
     "end_time": "2022-05-11T18:53:52.638041",
     "exception": false,
     "start_time": "2022-05-11T16:56:51.025400",
     "status": "completed"
    },
    "tags": []
   },
   "outputs": [
    {
     "name": "stdout",
     "output_type": "stream",
     "text": [
      "Downloading: 100%|███████████████████████████| 980k/980k [00:00<00:00, 34.7MB/s]\r\n",
      "Downloading: 100%|█████████████████████████| 1.37k/1.37k [00:00<00:00, 1.14MB/s]\r\n",
      "100%|███████████████████████████████████| 10883/10883 [00:07<00:00, 1522.58it/s]\r\n",
      "Epoch 001: mean_train_loss = 0.83491: 100%|█| 1089/1089 [05:49<00:00,  3.12it/s]\r\n",
      "Epoch 002: mean_train_loss = 0.81584: 100%|█| 1089/1089 [05:47<00:00,  3.13it/s]\r\n",
      "Epoch 003: mean_train_loss = 0.78541: 100%|█| 1089/1089 [05:49<00:00,  3.12it/s]\r\n",
      "Epoch 004: mean_train_loss = 0.76835: 100%|█| 1089/1089 [05:48<00:00,  3.13it/s]\r\n",
      "Epoch 005: mean_train_loss = 0.74451: 100%|█| 1089/1089 [05:49<00:00,  3.12it/s]\r\n",
      "Epoch 006: mean_train_loss = 0.71925: 100%|█| 1089/1089 [05:48<00:00,  3.13it/s]\r\n",
      "Epoch 007: mean_train_loss = 0.70392: 100%|█| 1089/1089 [05:48<00:00,  3.12it/s]\r\n",
      "Epoch 008: mean_train_loss = 0.68287: 100%|█| 1089/1089 [05:48<00:00,  3.13it/s]\r\n",
      "Epoch 009: mean_train_loss = 0.66448: 100%|█| 1089/1089 [05:48<00:00,  3.12it/s]\r\n",
      "Epoch 010: mean_train_loss = 0.64734: 100%|█| 1089/1089 [05:48<00:00,  3.12it/s]\r\n",
      "Epoch 011: mean_train_loss = 0.63279: 100%|█| 1089/1089 [05:49<00:00,  3.12it/s]\r\n",
      "Epoch 012: mean_train_loss = 0.61694: 100%|█| 1089/1089 [05:48<00:00,  3.12it/s]\r\n",
      "Epoch 013: mean_train_loss = 0.59927: 100%|█| 1089/1089 [05:48<00:00,  3.12it/s]\r\n",
      "Epoch 014: mean_train_loss = 0.58581: 100%|█| 1089/1089 [05:48<00:00,  3.12it/s]\r\n",
      "Epoch 015: mean_train_loss = 0.56846: 100%|█| 1089/1089 [05:49<00:00,  3.12it/s]\r\n",
      "Epoch 016: mean_train_loss = 0.55458: 100%|█| 1089/1089 [05:50<00:00,  3.11it/s]\r\n",
      "Epoch 017: mean_train_loss = 0.54118: 100%|█| 1089/1089 [05:49<00:00,  3.11it/s]\r\n",
      "Epoch 018: mean_train_loss = 0.52657: 100%|█| 1089/1089 [05:50<00:00,  3.11it/s]\r\n",
      "Epoch 019: mean_train_loss = 0.51111: 100%|█| 1089/1089 [05:50<00:00,  3.11it/s]\r\n",
      "Epoch 020: mean_train_loss = 0.50103: 100%|█| 1089/1089 [05:50<00:00,  3.10it/s]\r\n"
     ]
    }
   ],
   "source": [
    "!python ./text-detoxification/t5-full-training.py \\\n",
    "    --model-name sberbank-ai/ruT5-base \\\n",
    "    --model-path ../input/detox-full-train-sberbank-ai-rut5-base/model-20.dump \\\n",
    "    --max-length 110 \\\n",
    "    --train-path {os.environ.get('TRAIN_PATH')} \\\n",
    "    --epochs 20 \\\n",
    "    --save-model-when 5 10 15 20"
   ]
  },
  {
   "cell_type": "code",
   "execution_count": 5,
   "id": "9990a745",
   "metadata": {
    "execution": {
     "iopub.execute_input": "2022-05-11T18:54:06.493843Z",
     "iopub.status.busy": "2022-05-11T18:54:06.493478Z",
     "iopub.status.idle": "2022-05-11T18:54:07.155837Z",
     "shell.execute_reply": "2022-05-11T18:54:07.154948Z"
    },
    "papermill": {
     "duration": 7.705078,
     "end_time": "2022-05-11T18:54:07.158063",
     "exception": false,
     "start_time": "2022-05-11T18:53:59.452985",
     "status": "completed"
    },
    "tags": []
   },
   "outputs": [],
   "source": [
    "!rm -r ./text-detoxification"
   ]
  }
 ],
 "metadata": {
  "kernelspec": {
   "display_name": "Python 3",
   "language": "python",
   "name": "python3"
  },
  "language_info": {
   "codemirror_mode": {
    "name": "ipython",
    "version": 3
   },
   "file_extension": ".py",
   "mimetype": "text/x-python",
   "name": "python",
   "nbconvert_exporter": "python",
   "pygments_lexer": "ipython3",
   "version": "3.7.12"
  },
  "papermill": {
   "default_parameters": {},
   "duration": 7053.785121,
   "end_time": "2022-05-11T18:54:15.131336",
   "environment_variables": {},
   "exception": null,
   "input_path": "__notebook__.ipynb",
   "output_path": "__notebook__.ipynb",
   "parameters": {},
   "start_time": "2022-05-11T16:56:41.346215",
   "version": "2.3.4"
  }
 },
 "nbformat": 4,
 "nbformat_minor": 5
}
