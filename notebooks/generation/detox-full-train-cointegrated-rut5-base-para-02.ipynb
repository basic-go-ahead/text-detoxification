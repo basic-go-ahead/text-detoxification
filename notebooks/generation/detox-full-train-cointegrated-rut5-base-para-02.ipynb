{
 "cells": [
  {
   "cell_type": "code",
   "execution_count": 1,
   "id": "da547c41",
   "metadata": {
    "_cell_guid": "b1076dfc-b9ad-4769-8c92-a6c4dae69d19",
    "_uuid": "8f2839f25d086af736a60e9eeb907d3b93b6e0e5",
    "execution": {
     "iopub.execute_input": "2022-05-13T15:25:12.337977Z",
     "iopub.status.busy": "2022-05-13T15:25:12.337670Z",
     "iopub.status.idle": "2022-05-13T15:25:12.354727Z",
     "shell.execute_reply": "2022-05-13T15:25:12.354022Z"
    },
    "papermill": {
     "duration": 0.026311,
     "end_time": "2022-05-13T15:25:12.356495",
     "exception": false,
     "start_time": "2022-05-13T15:25:12.330184",
     "status": "completed"
    },
    "tags": []
   },
   "outputs": [],
   "source": [
    "import os, sys\n",
    "from dotenv import load_dotenv"
   ]
  },
  {
   "cell_type": "code",
   "execution_count": 2,
   "id": "56bace8a",
   "metadata": {
    "execution": {
     "iopub.execute_input": "2022-05-13T15:25:12.368084Z",
     "iopub.status.busy": "2022-05-13T15:25:12.367899Z",
     "iopub.status.idle": "2022-05-13T15:25:13.936073Z",
     "shell.execute_reply": "2022-05-13T15:25:13.935288Z"
    },
    "papermill": {
     "duration": 1.576376,
     "end_time": "2022-05-13T15:25:13.938305",
     "exception": false,
     "start_time": "2022-05-13T15:25:12.361929",
     "status": "completed"
    },
    "tags": []
   },
   "outputs": [
    {
     "name": "stdout",
     "output_type": "stream",
     "text": [
      "Cloning into 'text-detoxification'...\r\n",
      "remote: Enumerating objects: 56, done.\u001b[K\r\n",
      "remote: Counting objects: 100% (56/56), done.\u001b[K\r\n",
      "remote: Compressing objects: 100% (43/43), done.\u001b[K\r\n",
      "remote: Total 56 (delta 28), reused 36 (delta 11), pack-reused 0\u001b[K\r\n",
      "Unpacking objects: 100% (56/56), 9.32 KiB | 681.00 KiB/s, done.\r\n"
     ]
    }
   ],
   "source": [
    "!git clone https://github.com/basic-go-ahead/text-detoxification.git"
   ]
  },
  {
   "cell_type": "code",
   "execution_count": 3,
   "id": "e4d417e4",
   "metadata": {
    "execution": {
     "iopub.execute_input": "2022-05-13T15:25:13.952789Z",
     "iopub.status.busy": "2022-05-13T15:25:13.952562Z",
     "iopub.status.idle": "2022-05-13T15:25:13.960736Z",
     "shell.execute_reply": "2022-05-13T15:25:13.960046Z"
    },
    "papermill": {
     "duration": 0.017513,
     "end_time": "2022-05-13T15:25:13.962747",
     "exception": false,
     "start_time": "2022-05-13T15:25:13.945234",
     "status": "completed"
    },
    "tags": []
   },
   "outputs": [
    {
     "data": {
      "text/plain": [
       "True"
      ]
     },
     "execution_count": 3,
     "metadata": {},
     "output_type": "execute_result"
    }
   ],
   "source": [
    "load_dotenv('./text-detoxification/pipeline.env')"
   ]
  },
  {
   "cell_type": "code",
   "execution_count": 4,
   "id": "da5b8597",
   "metadata": {
    "execution": {
     "iopub.execute_input": "2022-05-13T15:25:13.977441Z",
     "iopub.status.busy": "2022-05-13T15:25:13.976915Z",
     "iopub.status.idle": "2022-05-13T18:42:11.355652Z",
     "shell.execute_reply": "2022-05-13T18:42:11.354708Z"
    },
    "papermill": {
     "duration": 11817.388896,
     "end_time": "2022-05-13T18:42:11.358086",
     "exception": false,
     "start_time": "2022-05-13T15:25:13.969190",
     "status": "completed"
    },
    "tags": []
   },
   "outputs": [
    {
     "name": "stdout",
     "output_type": "stream",
     "text": [
      "Downloading: 100%|███████████████████████████| 808k/808k [00:00<00:00, 1.82MB/s]\r\n",
      "Downloading: 100%|███████████████████████████| 65.0/65.0 [00:00<00:00, 70.2kB/s]\r\n",
      "Downloading: 100%|██████████████████████████████| 315/315 [00:00<00:00, 288kB/s]\r\n",
      "100%|███████████████████████████████████| 10883/10883 [00:06<00:00, 1716.33it/s]\r\n",
      "Epoch 001: mean_train_loss = 0.77273: 100%|█| 1089/1089 [09:48<00:00,  1.85it/s]\r\n",
      "Epoch 002: mean_train_loss = 0.76081: 100%|█| 1089/1089 [09:48<00:00,  1.85it/s]\r\n",
      "Epoch 003: mean_train_loss = 0.74785: 100%|█| 1089/1089 [09:48<00:00,  1.85it/s]\r\n",
      "Epoch 004: mean_train_loss = 0.73452: 100%|█| 1089/1089 [09:49<00:00,  1.85it/s]\r\n",
      "Epoch 005: mean_train_loss = 0.72417: 100%|█| 1089/1089 [09:48<00:00,  1.85it/s]\r\n",
      "Epoch 006: mean_train_loss = 0.71483: 100%|█| 1089/1089 [09:48<00:00,  1.85it/s]\r\n",
      "Epoch 007: mean_train_loss = 0.70319: 100%|█| 1089/1089 [09:48<00:00,  1.85it/s]\r\n",
      "Epoch 008: mean_train_loss = 0.69567: 100%|█| 1089/1089 [09:49<00:00,  1.85it/s]\r\n",
      "Epoch 009: mean_train_loss = 0.68220: 100%|█| 1089/1089 [09:49<00:00,  1.85it/s]\r\n",
      "Epoch 010: mean_train_loss = 0.67592: 100%|█| 1089/1089 [09:49<00:00,  1.85it/s]\r\n",
      "Epoch 011: mean_train_loss = 0.66131: 100%|█| 1089/1089 [09:49<00:00,  1.85it/s]\r\n",
      "Epoch 012: mean_train_loss = 0.65699: 100%|█| 1089/1089 [09:49<00:00,  1.85it/s]\r\n",
      "Epoch 013: mean_train_loss = 0.64795: 100%|█| 1089/1089 [09:49<00:00,  1.85it/s]\r\n",
      "Epoch 014: mean_train_loss = 0.63560: 100%|█| 1089/1089 [09:49<00:00,  1.85it/s]\r\n",
      "Epoch 015: mean_train_loss = 0.62620: 100%|█| 1089/1089 [09:48<00:00,  1.85it/s]\r\n",
      "Epoch 016: mean_train_loss = 0.62235: 100%|█| 1089/1089 [09:48<00:00,  1.85it/s]\r\n",
      "Epoch 017: mean_train_loss = 0.61089: 100%|█| 1089/1089 [09:48<00:00,  1.85it/s]\r\n",
      "Epoch 018: mean_train_loss = 0.60128: 100%|█| 1089/1089 [09:49<00:00,  1.85it/s]\r\n",
      "Epoch 019: mean_train_loss = 0.59835: 100%|█| 1089/1089 [09:48<00:00,  1.85it/s]\r\n",
      "Epoch 020: mean_train_loss = 0.58782: 100%|█| 1089/1089 [09:49<00:00,  1.85it/s]\r\n"
     ]
    }
   ],
   "source": [
    "!python ./text-detoxification/t5-full-training.py \\\n",
    "    --model-name cointegrated/rut5-base-paraphraser \\\n",
    "    --model-path ../input/detox-full-train-cointegrated-rut5-base-para-01/model-20.dump \\\n",
    "    --max-length 180 \\\n",
    "    --train-path {os.environ.get('TRAIN_PATH')} \\\n",
    "    --epochs 20 \\\n",
    "    --save-model-when 5 10 15 20"
   ]
  },
  {
   "cell_type": "code",
   "execution_count": 5,
   "id": "0862152a",
   "metadata": {
    "execution": {
     "iopub.execute_input": "2022-05-13T18:42:25.805512Z",
     "iopub.status.busy": "2022-05-13T18:42:25.805225Z",
     "iopub.status.idle": "2022-05-13T18:42:26.459646Z",
     "shell.execute_reply": "2022-05-13T18:42:26.458755Z"
    },
    "papermill": {
     "duration": 7.627357,
     "end_time": "2022-05-13T18:42:26.462067",
     "exception": false,
     "start_time": "2022-05-13T18:42:18.834710",
     "status": "completed"
    },
    "tags": []
   },
   "outputs": [],
   "source": [
    "!rm -r ./text-detoxification"
   ]
  }
 ],
 "metadata": {
  "kernelspec": {
   "display_name": "Python 3",
   "language": "python",
   "name": "python3"
  },
  "language_info": {
   "codemirror_mode": {
    "name": "ipython",
    "version": 3
   },
   "file_extension": ".py",
   "mimetype": "text/x-python",
   "name": "python",
   "nbconvert_exporter": "python",
   "pygments_lexer": "ipython3",
   "version": "3.7.12"
  },
  "papermill": {
   "default_parameters": {},
   "duration": 11849.374864,
   "end_time": "2022-05-13T18:42:33.871392",
   "environment_variables": {},
   "exception": null,
   "input_path": "__notebook__.ipynb",
   "output_path": "__notebook__.ipynb",
   "parameters": {},
   "start_time": "2022-05-13T15:25:04.496528",
   "version": "2.3.4"
  }
 },
 "nbformat": 4,
 "nbformat_minor": 5
}
