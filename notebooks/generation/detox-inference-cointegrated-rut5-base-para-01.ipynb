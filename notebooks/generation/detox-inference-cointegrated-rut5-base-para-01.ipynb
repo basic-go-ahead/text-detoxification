{
 "cells": [
  {
   "cell_type": "code",
   "execution_count": 1,
   "id": "b43eb0be",
   "metadata": {
    "_cell_guid": "b1076dfc-b9ad-4769-8c92-a6c4dae69d19",
    "_uuid": "8f2839f25d086af736a60e9eeb907d3b93b6e0e5",
    "execution": {
     "iopub.execute_input": "2022-05-22T21:09:23.867901Z",
     "iopub.status.busy": "2022-05-22T21:09:23.867188Z",
     "iopub.status.idle": "2022-05-22T21:09:23.886565Z",
     "shell.execute_reply": "2022-05-22T21:09:23.885702Z"
    },
    "papermill": {
     "duration": 0.030894,
     "end_time": "2022-05-22T21:09:23.888994",
     "exception": false,
     "start_time": "2022-05-22T21:09:23.858100",
     "status": "completed"
    },
    "tags": []
   },
   "outputs": [],
   "source": [
    "import os\n",
    "from dotenv import load_dotenv"
   ]
  },
  {
   "cell_type": "code",
   "execution_count": 2,
   "id": "5f2524e9",
   "metadata": {
    "execution": {
     "iopub.execute_input": "2022-05-22T21:09:23.903286Z",
     "iopub.status.busy": "2022-05-22T21:09:23.902989Z",
     "iopub.status.idle": "2022-05-22T21:09:26.161940Z",
     "shell.execute_reply": "2022-05-22T21:09:26.160895Z"
    },
    "papermill": {
     "duration": 2.268889,
     "end_time": "2022-05-22T21:09:26.164594",
     "exception": false,
     "start_time": "2022-05-22T21:09:23.895705",
     "status": "completed"
    },
    "tags": []
   },
   "outputs": [
    {
     "name": "stdout",
     "output_type": "stream",
     "text": [
      "Cloning into 'text-detoxification'...\r\n",
      "remote: Enumerating objects: 145, done.\u001b[K\r\n",
      "remote: Counting objects: 100% (145/145), done.\u001b[K\r\n",
      "remote: Compressing objects: 100% (104/104), done.\u001b[K\r\n",
      "remote: Total 145 (delta 81), reused 99 (delta 38), pack-reused 0\u001b[K\r\n",
      "Receiving objects: 100% (145/145), 523.06 KiB | 1.45 MiB/s, done.\r\n",
      "Resolving deltas: 100% (81/81), done.\r\n"
     ]
    }
   ],
   "source": [
    "!git clone https://github.com/basic-go-ahead/text-detoxification.git"
   ]
  },
  {
   "cell_type": "code",
   "execution_count": 3,
   "id": "5ba871b7",
   "metadata": {
    "execution": {
     "iopub.execute_input": "2022-05-22T21:09:26.182845Z",
     "iopub.status.busy": "2022-05-22T21:09:26.182574Z",
     "iopub.status.idle": "2022-05-22T21:09:26.192000Z",
     "shell.execute_reply": "2022-05-22T21:09:26.190982Z"
    },
    "papermill": {
     "duration": 0.020972,
     "end_time": "2022-05-22T21:09:26.194122",
     "exception": false,
     "start_time": "2022-05-22T21:09:26.173150",
     "status": "completed"
    },
    "tags": []
   },
   "outputs": [
    {
     "data": {
      "text/plain": [
       "True"
      ]
     },
     "execution_count": 3,
     "metadata": {},
     "output_type": "execute_result"
    }
   ],
   "source": [
    "load_dotenv('./text-detoxification/pipeline.env')"
   ]
  },
  {
   "cell_type": "code",
   "execution_count": 4,
   "id": "bb69fedb",
   "metadata": {
    "execution": {
     "iopub.execute_input": "2022-05-22T21:09:26.212955Z",
     "iopub.status.busy": "2022-05-22T21:09:26.212510Z",
     "iopub.status.idle": "2022-05-22T21:24:58.762904Z",
     "shell.execute_reply": "2022-05-22T21:24:58.760732Z"
    },
    "papermill": {
     "duration": 932.56397,
     "end_time": "2022-05-22T21:24:58.766606",
     "exception": false,
     "start_time": "2022-05-22T21:09:26.202636",
     "status": "completed"
    },
    "tags": []
   },
   "outputs": [
    {
     "name": "stdout",
     "output_type": "stream",
     "text": [
      "Downloading: 100%|███████████████████████████| 808k/808k [00:00<00:00, 32.1MB/s]\r\n",
      "Downloading: 100%|███████████████████████████| 65.0/65.0 [00:00<00:00, 44.7kB/s]\r\n",
      "Downloading: 100%|██████████████████████████████| 315/315 [00:00<00:00, 205kB/s]\r\n",
      "100%|███████████████████████████████████████| 800/800 [00:00<00:00, 3652.06it/s]\r\n",
      "100%|███████████████████████████████████████████| 40/40 [15:06<00:00, 22.65s/it]\r\n",
      "  adding: answer.txt (deflated 68%)\r\n"
     ]
    }
   ],
   "source": [
    "!python ./text-detoxification/t5-inference.py \\\n",
    "    --model-name cointegrated/rut5-base-paraphraser \\\n",
    "    --model-path ../input/detox-full-train-cointegrated-rut5-base-para-01/model-12.dump \\\n",
    "    --max-length 180 \\\n",
    "    --toxic-path {os.environ.get('TEST_PATH')} \\\n",
    "    --detoxic-path ./answer-full-coin-12.txt\n",
    "\n",
    "!cp ./answer-full-coin-12.txt ./answer.txt\n",
    "!zip ./submission-full-coin-12.zip ./answer.txt\n",
    "!rm -f ./answer.txt"
   ]
  },
  {
   "cell_type": "code",
   "execution_count": 5,
   "id": "26f329a9",
   "metadata": {
    "execution": {
     "iopub.execute_input": "2022-05-22T21:24:58.815459Z",
     "iopub.status.busy": "2022-05-22T21:24:58.814767Z",
     "iopub.status.idle": "2022-05-22T21:37:36.001314Z",
     "shell.execute_reply": "2022-05-22T21:37:36.000347Z"
    },
    "papermill": {
     "duration": 757.214974,
     "end_time": "2022-05-22T21:37:36.003588",
     "exception": false,
     "start_time": "2022-05-22T21:24:58.788614",
     "status": "completed"
    },
    "tags": []
   },
   "outputs": [
    {
     "name": "stdout",
     "output_type": "stream",
     "text": [
      "100%|███████████████████████████████████████| 800/800 [00:00<00:00, 3456.00it/s]\r\n",
      "100%|███████████████████████████████████████████| 40/40 [12:15<00:00, 18.39s/it]\r\n",
      "  adding: answer.txt (deflated 67%)\r\n"
     ]
    }
   ],
   "source": [
    "!python ./text-detoxification/t5-inference.py \\\n",
    "    --model-name cointegrated/rut5-base-paraphraser \\\n",
    "    --model-path ../input/detox-full-train-cointegrated-rut5-base-para-01/model-15.dump \\\n",
    "    --max-length 180 \\\n",
    "    --toxic-path {os.environ.get('TEST_PATH')} \\\n",
    "    --detoxic-path ./answer-full-coin-15.txt\n",
    "\n",
    "!cp ./answer-full-coin-15.txt ./answer.txt\n",
    "!zip ./submission-full-coin-15.zip ./answer.txt\n",
    "!rm -f ./answer.txt"
   ]
  },
  {
   "cell_type": "code",
   "execution_count": 6,
   "id": "9488cebd",
   "metadata": {
    "execution": {
     "iopub.execute_input": "2022-05-22T21:37:36.076538Z",
     "iopub.status.busy": "2022-05-22T21:37:36.075895Z",
     "iopub.status.idle": "2022-05-22T21:49:13.262245Z",
     "shell.execute_reply": "2022-05-22T21:49:13.260925Z"
    },
    "papermill": {
     "duration": 697.226478,
     "end_time": "2022-05-22T21:49:13.264935",
     "exception": false,
     "start_time": "2022-05-22T21:37:36.038457",
     "status": "completed"
    },
    "tags": []
   },
   "outputs": [
    {
     "name": "stdout",
     "output_type": "stream",
     "text": [
      "100%|███████████████████████████████████████| 800/800 [00:00<00:00, 3264.12it/s]\r\n",
      "100%|███████████████████████████████████████████| 40/40 [11:19<00:00, 16.98s/it]\r\n",
      "  adding: answer.txt (deflated 67%)\r\n"
     ]
    }
   ],
   "source": [
    "!python ./text-detoxification/t5-inference.py \\\n",
    "    --model-name cointegrated/rut5-base-paraphraser \\\n",
    "    --model-path ../input/detox-full-train-cointegrated-rut5-base-para-01/model-20.dump \\\n",
    "    --max-length 180 \\\n",
    "    --toxic-path {os.environ.get('TEST_PATH')} \\\n",
    "    --detoxic-path ./answer-full-coin-20.txt\n",
    "\n",
    "!cp ./answer-full-coin-20.txt ./answer.txt\n",
    "!zip ./submission-full-coin-20.zip ./answer.txt\n",
    "!rm -f ./answer.txt"
   ]
  },
  {
   "cell_type": "code",
   "execution_count": 7,
   "id": "6558573c",
   "metadata": {
    "execution": {
     "iopub.execute_input": "2022-05-22T21:49:13.363686Z",
     "iopub.status.busy": "2022-05-22T21:49:13.363070Z",
     "iopub.status.idle": "2022-05-22T21:49:14.156972Z",
     "shell.execute_reply": "2022-05-22T21:49:14.156052Z"
    },
    "papermill": {
     "duration": 0.845452,
     "end_time": "2022-05-22T21:49:14.159248",
     "exception": false,
     "start_time": "2022-05-22T21:49:13.313796",
     "status": "completed"
    },
    "tags": []
   },
   "outputs": [],
   "source": [
    "!rm -r ./text-detoxification"
   ]
  }
 ],
 "metadata": {
  "kernelspec": {
   "display_name": "Python 3",
   "language": "python",
   "name": "python3"
  },
  "language_info": {
   "codemirror_mode": {
    "name": "ipython",
    "version": 3
   },
   "file_extension": ".py",
   "mimetype": "text/x-python",
   "name": "python",
   "nbconvert_exporter": "python",
   "pygments_lexer": "ipython3",
   "version": "3.7.12"
  },
  "papermill": {
   "default_parameters": {},
   "duration": 2400.150036,
   "end_time": "2022-05-22T21:49:14.932834",
   "environment_variables": {},
   "exception": null,
   "input_path": "__notebook__.ipynb",
   "output_path": "__notebook__.ipynb",
   "parameters": {},
   "start_time": "2022-05-22T21:09:14.782798",
   "version": "2.3.4"
  }
 },
 "nbformat": 4,
 "nbformat_minor": 5
}
