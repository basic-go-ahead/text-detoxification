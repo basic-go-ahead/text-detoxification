{
 "cells": [
  {
   "cell_type": "code",
   "execution_count": 1,
   "id": "a9ca3fb6",
   "metadata": {
    "_cell_guid": "b1076dfc-b9ad-4769-8c92-a6c4dae69d19",
    "_uuid": "8f2839f25d086af736a60e9eeb907d3b93b6e0e5",
    "execution": {
     "iopub.execute_input": "2022-05-22T21:11:31.755824Z",
     "iopub.status.busy": "2022-05-22T21:11:31.755027Z",
     "iopub.status.idle": "2022-05-22T21:11:31.779945Z",
     "shell.execute_reply": "2022-05-22T21:11:31.779028Z"
    },
    "papermill": {
     "duration": 0.042945,
     "end_time": "2022-05-22T21:11:31.782818",
     "exception": false,
     "start_time": "2022-05-22T21:11:31.739873",
     "status": "completed"
    },
    "tags": []
   },
   "outputs": [],
   "source": [
    "import os\n",
    "from dotenv import load_dotenv"
   ]
  },
  {
   "cell_type": "code",
   "execution_count": 2,
   "id": "bc45ae52",
   "metadata": {
    "execution": {
     "iopub.execute_input": "2022-05-22T21:11:31.809173Z",
     "iopub.status.busy": "2022-05-22T21:11:31.808330Z",
     "iopub.status.idle": "2022-05-22T21:11:32.766915Z",
     "shell.execute_reply": "2022-05-22T21:11:32.765851Z"
    },
    "papermill": {
     "duration": 0.974055,
     "end_time": "2022-05-22T21:11:32.769413",
     "exception": false,
     "start_time": "2022-05-22T21:11:31.795358",
     "status": "completed"
    },
    "tags": []
   },
   "outputs": [
    {
     "name": "stdout",
     "output_type": "stream",
     "text": [
      "Cloning into 'text-detoxification'...\r\n",
      "remote: Enumerating objects: 145, done.\u001b[K\r\n",
      "remote: Counting objects: 100% (145/145), done.\u001b[K\r\n",
      "remote: Compressing objects: 100% (104/104), done.\u001b[K\r\n",
      "remote: Total 145 (delta 81), reused 99 (delta 38), pack-reused 0\u001b[K\r\n",
      "Receiving objects: 100% (145/145), 523.06 KiB | 9.69 MiB/s, done.\r\n",
      "Resolving deltas: 100% (81/81), done.\r\n"
     ]
    }
   ],
   "source": [
    "!git clone https://github.com/basic-go-ahead/text-detoxification.git"
   ]
  },
  {
   "cell_type": "code",
   "execution_count": 3,
   "id": "616c42a4",
   "metadata": {
    "execution": {
     "iopub.execute_input": "2022-05-22T21:11:32.800398Z",
     "iopub.status.busy": "2022-05-22T21:11:32.800147Z",
     "iopub.status.idle": "2022-05-22T21:11:32.812304Z",
     "shell.execute_reply": "2022-05-22T21:11:32.811096Z"
    },
    "papermill": {
     "duration": 0.030586,
     "end_time": "2022-05-22T21:11:32.814901",
     "exception": false,
     "start_time": "2022-05-22T21:11:32.784315",
     "status": "completed"
    },
    "tags": []
   },
   "outputs": [
    {
     "data": {
      "text/plain": [
       "True"
      ]
     },
     "execution_count": 3,
     "metadata": {},
     "output_type": "execute_result"
    }
   ],
   "source": [
    "load_dotenv('./text-detoxification/pipeline.env')"
   ]
  },
  {
   "cell_type": "code",
   "execution_count": 4,
   "id": "3e4727c6",
   "metadata": {
    "execution": {
     "iopub.execute_input": "2022-05-22T21:11:32.847000Z",
     "iopub.status.busy": "2022-05-22T21:11:32.846735Z",
     "iopub.status.idle": "2022-05-22T21:34:37.077809Z",
     "shell.execute_reply": "2022-05-22T21:34:37.076072Z"
    },
    "papermill": {
     "duration": 1384.251421,
     "end_time": "2022-05-22T21:34:37.081674",
     "exception": false,
     "start_time": "2022-05-22T21:11:32.830253",
     "status": "completed"
    },
    "tags": []
   },
   "outputs": [
    {
     "name": "stdout",
     "output_type": "stream",
     "text": [
      "Downloading: 100%|███████████████████████████| 808k/808k [00:00<00:00, 1.90MB/s]\r\n",
      "Downloading: 100%|███████████████████████████| 65.0/65.0 [00:00<00:00, 37.4kB/s]\r\n",
      "Downloading: 100%|██████████████████████████████| 315/315 [00:00<00:00, 205kB/s]\r\n",
      "100%|███████████████████████████████████████| 800/800 [00:00<00:00, 2316.02it/s]\r\n",
      "100%|███████████████████████████████████████████| 40/40 [22:38<00:00, 33.96s/it]\r\n",
      "  adding: answer.txt (deflated 67%)\r\n"
     ]
    }
   ],
   "source": [
    "!python ./text-detoxification/t5-inference.py \\\n",
    "    --model-name cointegrated/rut5-base-paraphraser \\\n",
    "    --model-path ../input/detox-full-train-cointegrated-rut5-base-para-02/model-05.dump \\\n",
    "    --max-length 180 \\\n",
    "    --toxic-path {os.environ.get('TEST_PATH')} \\\n",
    "    --detoxic-path ./answer-full-coin-25.txt\n",
    "\n",
    "!cp ./answer-full-coin-25.txt ./answer.txt\n",
    "!zip ./submission-full-coin-25.zip ./answer.txt\n",
    "!rm -f ./answer.txt"
   ]
  },
  {
   "cell_type": "code",
   "execution_count": 5,
   "id": "83b4391d",
   "metadata": {
    "execution": {
     "iopub.execute_input": "2022-05-22T21:34:37.170994Z",
     "iopub.status.busy": "2022-05-22T21:34:37.170031Z",
     "iopub.status.idle": "2022-05-22T21:57:59.850959Z",
     "shell.execute_reply": "2022-05-22T21:57:59.849406Z"
    },
    "papermill": {
     "duration": 1402.729207,
     "end_time": "2022-05-22T21:57:59.854177",
     "exception": false,
     "start_time": "2022-05-22T21:34:37.124970",
     "status": "completed"
    },
    "tags": []
   },
   "outputs": [
    {
     "name": "stdout",
     "output_type": "stream",
     "text": [
      "100%|███████████████████████████████████████| 800/800 [00:00<00:00, 3567.69it/s]\r\n",
      "100%|███████████████████████████████████████████| 40/40 [22:58<00:00, 34.47s/it]\r\n",
      "  adding: answer.txt (deflated 67%)\r\n"
     ]
    }
   ],
   "source": [
    "!python ./text-detoxification/t5-inference.py \\\n",
    "    --model-name cointegrated/rut5-base-paraphraser \\\n",
    "    --model-path ../input/detox-full-train-cointegrated-rut5-base-para-02/model-10.dump \\\n",
    "    --max-length 180 \\\n",
    "    --toxic-path {os.environ.get('TEST_PATH')} \\\n",
    "    --detoxic-path ./answer-full-coin-30.txt\n",
    "\n",
    "!cp ./answer-full-coin-30.txt ./answer.txt\n",
    "!zip ./submission-full-coin-30.zip ./answer.txt\n",
    "!rm -f ./answer.txt"
   ]
  },
  {
   "cell_type": "code",
   "execution_count": 6,
   "id": "f6451e16",
   "metadata": {
    "execution": {
     "iopub.execute_input": "2022-05-22T21:57:59.988793Z",
     "iopub.status.busy": "2022-05-22T21:57:59.988098Z",
     "iopub.status.idle": "2022-05-22T22:20:09.141519Z",
     "shell.execute_reply": "2022-05-22T22:20:09.140113Z"
    },
    "papermill": {
     "duration": 1329.223325,
     "end_time": "2022-05-22T22:20:09.143819",
     "exception": false,
     "start_time": "2022-05-22T21:57:59.920494",
     "status": "completed"
    },
    "tags": []
   },
   "outputs": [
    {
     "name": "stdout",
     "output_type": "stream",
     "text": [
      "100%|███████████████████████████████████████| 800/800 [00:00<00:00, 2290.19it/s]\r\n",
      "100%|███████████████████████████████████████████| 40/40 [21:51<00:00, 32.79s/it]\r\n",
      "  adding: answer.txt (deflated 67%)\r\n"
     ]
    }
   ],
   "source": [
    "!python ./text-detoxification/t5-inference.py \\\n",
    "    --model-name cointegrated/rut5-base-paraphraser \\\n",
    "    --model-path ../input/detox-full-train-cointegrated-rut5-base-para-02/model-15.dump \\\n",
    "    --max-length 180 \\\n",
    "    --toxic-path {os.environ.get('TEST_PATH')} \\\n",
    "    --detoxic-path ./answer-full-coin-35.txt\n",
    "\n",
    "!cp ./answer-full-coin-35.txt ./answer.txt\n",
    "!zip ./submission-full-coin-35.zip ./answer.txt\n",
    "!rm -f ./answer.txt"
   ]
  },
  {
   "cell_type": "code",
   "execution_count": 7,
   "id": "59f82b3a",
   "metadata": {
    "execution": {
     "iopub.execute_input": "2022-05-22T22:20:09.260125Z",
     "iopub.status.busy": "2022-05-22T22:20:09.259419Z",
     "iopub.status.idle": "2022-05-22T22:41:46.835772Z",
     "shell.execute_reply": "2022-05-22T22:41:46.834029Z"
    },
    "papermill": {
     "duration": 1297.637694,
     "end_time": "2022-05-22T22:41:46.838791",
     "exception": false,
     "start_time": "2022-05-22T22:20:09.201097",
     "status": "completed"
    },
    "tags": []
   },
   "outputs": [
    {
     "name": "stdout",
     "output_type": "stream",
     "text": [
      "100%|███████████████████████████████████████| 800/800 [00:00<00:00, 3677.09it/s]\r\n",
      "100%|███████████████████████████████████████████| 40/40 [21:20<00:00, 32.01s/it]\r\n",
      "  adding: answer.txt (deflated 67%)\r\n"
     ]
    }
   ],
   "source": [
    "!python ./text-detoxification/t5-inference.py \\\n",
    "    --model-name cointegrated/rut5-base-paraphraser \\\n",
    "    --model-path ../input/detox-full-train-cointegrated-rut5-base-para-02/model-20.dump \\\n",
    "    --max-length 180 \\\n",
    "    --toxic-path {os.environ.get('TEST_PATH')} \\\n",
    "    --detoxic-path ./answer-full-coin-40.txt\n",
    "\n",
    "!cp ./answer-full-coin-40.txt ./answer.txt\n",
    "!zip ./submission-full-coin-40.zip ./answer.txt\n",
    "!rm -f ./answer.txt"
   ]
  },
  {
   "cell_type": "code",
   "execution_count": 8,
   "id": "85550d85",
   "metadata": {
    "execution": {
     "iopub.execute_input": "2022-05-22T22:41:47.077691Z",
     "iopub.status.busy": "2022-05-22T22:41:47.077221Z",
     "iopub.status.idle": "2022-05-22T22:41:47.381219Z",
     "shell.execute_reply": "2022-05-22T22:41:47.379514Z"
    },
    "papermill": {
     "duration": 0.430773,
     "end_time": "2022-05-22T22:41:47.384953",
     "exception": false,
     "start_time": "2022-05-22T22:41:46.954180",
     "status": "completed"
    },
    "tags": []
   },
   "outputs": [],
   "source": [
    "!rm -r ./text-detoxification"
   ]
  }
 ],
 "metadata": {
  "kernelspec": {
   "display_name": "Python 3",
   "language": "python",
   "name": "python3"
  },
  "language_info": {
   "codemirror_mode": {
    "name": "ipython",
    "version": 3
   },
   "file_extension": ".py",
   "mimetype": "text/x-python",
   "name": "python",
   "nbconvert_exporter": "python",
   "pygments_lexer": "ipython3",
   "version": "3.7.12"
  },
  "papermill": {
   "default_parameters": {},
   "duration": 5431.050595,
   "end_time": "2022-05-22T22:41:48.757360",
   "environment_variables": {},
   "exception": null,
   "input_path": "__notebook__.ipynb",
   "output_path": "__notebook__.ipynb",
   "parameters": {},
   "start_time": "2022-05-22T21:11:17.706765",
   "version": "2.3.4"
  }
 },
 "nbformat": 4,
 "nbformat_minor": 5
}
