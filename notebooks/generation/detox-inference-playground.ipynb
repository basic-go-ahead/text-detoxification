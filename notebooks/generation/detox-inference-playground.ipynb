{
 "cells": [
  {
   "cell_type": "code",
   "execution_count": 1,
   "id": "05b3d7e9",
   "metadata": {
    "_cell_guid": "b1076dfc-b9ad-4769-8c92-a6c4dae69d19",
    "_uuid": "8f2839f25d086af736a60e9eeb907d3b93b6e0e5",
    "execution": {
     "iopub.execute_input": "2022-05-22T20:55:18.644717Z",
     "iopub.status.busy": "2022-05-22T20:55:18.644203Z",
     "iopub.status.idle": "2022-05-22T20:55:18.664425Z",
     "shell.execute_reply": "2022-05-22T20:55:18.663285Z"
    },
    "papermill": {
     "duration": 0.035187,
     "end_time": "2022-05-22T20:55:18.667355",
     "exception": false,
     "start_time": "2022-05-22T20:55:18.632168",
     "status": "completed"
    },
    "tags": []
   },
   "outputs": [],
   "source": [
    "import os\n",
    "from dotenv import load_dotenv"
   ]
  },
  {
   "cell_type": "code",
   "execution_count": 2,
   "id": "c09e4b62",
   "metadata": {
    "execution": {
     "iopub.execute_input": "2022-05-22T20:55:18.687208Z",
     "iopub.status.busy": "2022-05-22T20:55:18.686274Z",
     "iopub.status.idle": "2022-05-22T20:55:21.708408Z",
     "shell.execute_reply": "2022-05-22T20:55:21.707509Z"
    },
    "papermill": {
     "duration": 3.034938,
     "end_time": "2022-05-22T20:55:21.711420",
     "exception": false,
     "start_time": "2022-05-22T20:55:18.676482",
     "status": "completed"
    },
    "tags": []
   },
   "outputs": [
    {
     "name": "stdout",
     "output_type": "stream",
     "text": [
      "Cloning into 'text-detoxification'...\r\n",
      "remote: Enumerating objects: 145, done.\u001b[K\r\n",
      "remote: Counting objects: 100% (145/145), done.\u001b[K\r\n",
      "remote: Compressing objects: 100% (104/104), done.\u001b[K\r\n",
      "remote: Total 145 (delta 81), reused 99 (delta 38), pack-reused 0\u001b[K\r\n",
      "Receiving objects: 100% (145/145), 523.06 KiB | 753.00 KiB/s, done.\r\n",
      "Resolving deltas: 100% (81/81), done.\r\n"
     ]
    }
   ],
   "source": [
    "!git clone https://github.com/basic-go-ahead/text-detoxification.git"
   ]
  },
  {
   "cell_type": "code",
   "execution_count": 3,
   "id": "074ed6d6",
   "metadata": {
    "execution": {
     "iopub.execute_input": "2022-05-22T20:55:21.738347Z",
     "iopub.status.busy": "2022-05-22T20:55:21.737965Z",
     "iopub.status.idle": "2022-05-22T20:55:21.748866Z",
     "shell.execute_reply": "2022-05-22T20:55:21.748092Z"
    },
    "papermill": {
     "duration": 0.026846,
     "end_time": "2022-05-22T20:55:21.751010",
     "exception": false,
     "start_time": "2022-05-22T20:55:21.724164",
     "status": "completed"
    },
    "tags": []
   },
   "outputs": [
    {
     "data": {
      "text/plain": [
       "True"
      ]
     },
     "execution_count": 3,
     "metadata": {},
     "output_type": "execute_result"
    }
   ],
   "source": [
    "load_dotenv('./text-detoxification/pipeline.env')"
   ]
  },
  {
   "cell_type": "code",
   "execution_count": 4,
   "id": "3be7be55",
   "metadata": {
    "execution": {
     "iopub.execute_input": "2022-05-22T20:55:21.778296Z",
     "iopub.status.busy": "2022-05-22T20:55:21.777922Z",
     "iopub.status.idle": "2022-05-22T21:04:37.566407Z",
     "shell.execute_reply": "2022-05-22T21:04:37.564783Z"
    },
    "papermill": {
     "duration": 555.805994,
     "end_time": "2022-05-22T21:04:37.569950",
     "exception": false,
     "start_time": "2022-05-22T20:55:21.763956",
     "status": "completed"
    },
    "tags": []
   },
   "outputs": [
    {
     "name": "stdout",
     "output_type": "stream",
     "text": [
      "Downloading: 100%|████████████████████████████| 980k/980k [00:01<00:00, 783kB/s]\r\n",
      "Downloading: 100%|██████████████████████████| 1.37k/1.37k [00:00<00:00, 719kB/s]\r\n",
      "100%|███████████████████████████████████████| 800/800 [00:00<00:00, 2663.25it/s]\r\n",
      "100%|███████████████████████████████████████████| 40/40 [08:46<00:00, 13.16s/it]\r\n",
      "  adding: answer.txt (deflated 67%)\r\n"
     ]
    }
   ],
   "source": [
    "!python ./text-detoxification/t5-inference.py \\\n",
    "    --model-name sberbank-ai/ruT5-base \\\n",
    "    --model-path ../input/detox-full-train-sberbank-ai-rut5-base/model-12.dump \\\n",
    "    --max-length 110 \\\n",
    "    --toxic-path {os.environ.get('TEST_PATH')} \\\n",
    "    --detoxic-path ./answer.txt\n",
    "\n",
    "!zip ./submission-full-sber-12.zip ./answer.txt\n",
    "!rm -f ./answer.txt"
   ]
  },
  {
   "cell_type": "code",
   "execution_count": 5,
   "id": "2182245a",
   "metadata": {
    "execution": {
     "iopub.execute_input": "2022-05-22T21:04:37.642277Z",
     "iopub.status.busy": "2022-05-22T21:04:37.641789Z",
     "iopub.status.idle": "2022-05-22T21:13:55.983596Z",
     "shell.execute_reply": "2022-05-22T21:13:55.982304Z"
    },
    "papermill": {
     "duration": 558.382328,
     "end_time": "2022-05-22T21:13:55.986357",
     "exception": false,
     "start_time": "2022-05-22T21:04:37.604029",
     "status": "completed"
    },
    "tags": []
   },
   "outputs": [
    {
     "name": "stdout",
     "output_type": "stream",
     "text": [
      "100%|███████████████████████████████████████| 800/800 [00:00<00:00, 2580.55it/s]\r\n",
      "100%|███████████████████████████████████████████| 40/40 [08:54<00:00, 13.37s/it]\r\n",
      "  adding: answer.txt (deflated 67%)\r\n"
     ]
    }
   ],
   "source": [
    "!python ./text-detoxification/t5-inference.py \\\n",
    "    --model-name sberbank-ai/ruT5-base \\\n",
    "    --model-path ../input/detox-full-train-sberbank-ai-rut5-base/model-15.dump \\\n",
    "    --max-length 110 \\\n",
    "    --toxic-path {os.environ.get('TEST_PATH')} \\\n",
    "    --detoxic-path ./answer.txt\n",
    "\n",
    "!zip ./submission-full-sber-15.zip ./answer.txt\n",
    "!rm -f ./answer.txt"
   ]
  },
  {
   "cell_type": "code",
   "execution_count": 6,
   "id": "3cc2ea94",
   "metadata": {
    "execution": {
     "iopub.execute_input": "2022-05-22T21:13:56.096389Z",
     "iopub.status.busy": "2022-05-22T21:13:56.095175Z",
     "iopub.status.idle": "2022-05-22T21:23:06.283874Z",
     "shell.execute_reply": "2022-05-22T21:23:06.280037Z"
    },
    "papermill": {
     "duration": 550.25217,
     "end_time": "2022-05-22T21:23:06.291698",
     "exception": false,
     "start_time": "2022-05-22T21:13:56.039528",
     "status": "completed"
    },
    "tags": []
   },
   "outputs": [
    {
     "name": "stdout",
     "output_type": "stream",
     "text": [
      "100%|███████████████████████████████████████| 800/800 [00:00<00:00, 2709.54it/s]\r\n",
      "100%|███████████████████████████████████████████| 40/40 [08:48<00:00, 13.22s/it]\r\n",
      "  adding: answer.txt (deflated 67%)\r\n"
     ]
    }
   ],
   "source": [
    "!python ./text-detoxification/t5-inference.py \\\n",
    "    --model-name sberbank-ai/ruT5-base \\\n",
    "    --model-path ../input/detox-full-train-sberbank-ai-rut5-base/model-20.dump \\\n",
    "    --max-length 110 \\\n",
    "    --toxic-path {os.environ.get('TEST_PATH')} \\\n",
    "    --detoxic-path ./answer.txt\n",
    "\n",
    "!zip ./submission-full-sber-20.zip ./answer.txt\n",
    "!rm -f ./answer.txt"
   ]
  },
  {
   "cell_type": "code",
   "execution_count": 7,
   "id": "7e1a4925",
   "metadata": {
    "execution": {
     "iopub.execute_input": "2022-05-22T21:23:06.705790Z",
     "iopub.status.busy": "2022-05-22T21:23:06.704184Z",
     "iopub.status.idle": "2022-05-22T21:23:08.304824Z",
     "shell.execute_reply": "2022-05-22T21:23:08.300743Z"
    },
    "papermill": {
     "duration": 1.815899,
     "end_time": "2022-05-22T21:23:08.312752",
     "exception": false,
     "start_time": "2022-05-22T21:23:06.496853",
     "status": "completed"
    },
    "tags": []
   },
   "outputs": [],
   "source": [
    "!rm -r ./text-detoxification"
   ]
  }
 ],
 "metadata": {
  "kernelspec": {
   "display_name": "Python 3",
   "language": "python",
   "name": "python3"
  },
  "language_info": {
   "codemirror_mode": {
    "name": "ipython",
    "version": 3
   },
   "file_extension": ".py",
   "mimetype": "text/x-python",
   "name": "python",
   "nbconvert_exporter": "python",
   "pygments_lexer": "ipython3",
   "version": "3.7.12"
  },
  "papermill": {
   "default_parameters": {},
   "duration": 1682.557487,
   "end_time": "2022-05-22T21:23:10.376189",
   "environment_variables": {},
   "exception": null,
   "input_path": "__notebook__.ipynb",
   "output_path": "__notebook__.ipynb",
   "parameters": {},
   "start_time": "2022-05-22T20:55:07.818702",
   "version": "2.3.4"
  }
 },
 "nbformat": 4,
 "nbformat_minor": 5
}
